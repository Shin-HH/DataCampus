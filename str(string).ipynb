{
 "cells": [
  {
   "cell_type": "markdown",
   "id": "ed4af69a",
   "metadata": {},
   "source": [
    "# Unit 9 문자열 사용하기"
   ]
  },
  {
   "cell_type": "markdown",
   "id": "0e850834",
   "metadata": {},
   "source": [
    "### 문자열을 만드는 방법 \n",
    "- 'string'\n",
    "- \"string\"\n",
    "- '''string'''\n",
    "- \"\"\"string\"\"\""
   ]
  },
  {
   "cell_type": "code",
   "execution_count": 1,
   "id": "6351e067",
   "metadata": {},
   "outputs": [
    {
     "data": {
      "text/plain": [
       "'Hello, World!'"
      ]
     },
     "execution_count": 1,
     "metadata": {},
     "output_type": "execute_result"
    }
   ],
   "source": [
    "# ''사용\n",
    "hello = 'Hello, World!'\n",
    "hello"
   ]
  },
  {
   "cell_type": "code",
   "execution_count": 2,
   "id": "712bb3d8",
   "metadata": {},
   "outputs": [
    {
     "data": {
      "text/plain": [
       "'안녕하세요'"
      ]
     },
     "execution_count": 2,
     "metadata": {},
     "output_type": "execute_result"
    }
   ],
   "source": [
    "# \"\"사용\n",
    "hello = \"안녕하세요\"\n",
    "hello"
   ]
  },
  {
   "cell_type": "code",
   "execution_count": 3,
   "id": "1c3ef063",
   "metadata": {},
   "outputs": [
    {
     "data": {
      "text/plain": [
       "'Hello, World!'"
      ]
     },
     "execution_count": 3,
     "metadata": {},
     "output_type": "execute_result"
    }
   ],
   "source": [
    "# ''''''사용\n",
    "hello = '''Hello, World!'''\n",
    "hello"
   ]
  },
  {
   "cell_type": "code",
   "execution_count": 4,
   "id": "77840134",
   "metadata": {},
   "outputs": [
    {
     "data": {
      "text/plain": [
       "'안녕하세요'"
      ]
     },
     "execution_count": 4,
     "metadata": {},
     "output_type": "execute_result"
    }
   ],
   "source": [
    "# \"\"\"\"\"\"사용\n",
    "hello = \"\"\"안녕하세요\"\"\"\n",
    "hello"
   ]
  },
  {
   "cell_type": "markdown",
   "id": "29001158",
   "metadata": {},
   "source": [
    "### 여러 줄로 된 문자열(multiline string)\n",
    "- '''string'''\n",
    "- \"\"\"string\"\"\""
   ]
  },
  {
   "cell_type": "code",
   "execution_count": 9,
   "id": "57fd5657",
   "metadata": {},
   "outputs": [
    {
     "name": "stdout",
     "output_type": "stream",
     "text": [
      "Hello, World!\n",
      "안녕하세요!\n"
     ]
    }
   ],
   "source": [
    "# ''''''사용\n",
    "hello = '''Hello, World!\n",
    "안녕하세요!'''\n",
    "\n",
    "print(hello)"
   ]
  },
  {
   "cell_type": "code",
   "execution_count": 8,
   "id": "2cab8ce4",
   "metadata": {},
   "outputs": [
    {
     "name": "stdout",
     "output_type": "stream",
     "text": [
      "Hello, World!\n",
      "안녕하세요!\n"
     ]
    }
   ],
   "source": [
    "# \"\"\"\"\"\"사용\n",
    "hello = \"\"\"Hello, World!\n",
    "안녕하세요!\"\"\"\n",
    "\n",
    "print(hello)"
   ]
  },
  {
   "cell_type": "markdown",
   "id": "3a4f06ff",
   "metadata": {},
   "source": [
    "### 문자열 안에 따옴표 포함\n",
    "1. 문자열 안에 '(작은따옴표) 넣기\n",
    "2. 문자열 안에 \"(큰따옴표) 넣기"
   ]
  },
  {
   "cell_type": "code",
   "execution_count": 13,
   "id": "e6d8ba12",
   "metadata": {},
   "outputs": [
    {
     "name": "stdout",
     "output_type": "stream",
     "text": [
      "Python isn't difficult\n"
     ]
    }
   ],
   "source": [
    "# 작은따옴표 넣기\n",
    "# 문자열 내에 작은따옴표를 넣기 위해서는 큰따옴표로 문자열을 묶어준다\n",
    "s = \"Python isn't difficult\"\n",
    "print(s)"
   ]
  },
  {
   "cell_type": "code",
   "execution_count": 12,
   "id": "01f291b5",
   "metadata": {},
   "outputs": [
    {
     "name": "stdout",
     "output_type": "stream",
     "text": [
      "He said \"Python is easy\"\n"
     ]
    }
   ],
   "source": [
    "# 큰따옴표 넣기\n",
    "# 문자열 내에 큰따옴표를 넣기 위해서는 작은따옴표로 문자열을 묶어준다\n",
    "s = 'He said \"Python is easy\"'\n",
    "print(s)"
   ]
  },
  {
   "cell_type": "code",
   "execution_count": 15,
   "id": "3552930d",
   "metadata": {},
   "outputs": [
    {
     "name": "stdout",
     "output_type": "stream",
     "text": [
      "Python isn't difficult.\n",
      "He said \"Python is easy\"\n"
     ]
    }
   ],
   "source": [
    "# 여러 줄로 된 문자열에는 작은따옴표와 큰따옴표 모두 넣을 수 있다.\n",
    "s = '''Python isn't difficult.\n",
    "He said \"Python is easy\"'''\n",
    "print(s)"
   ]
  },
  {
   "cell_type": "code",
   "execution_count": 16,
   "id": "e69fc5cb",
   "metadata": {},
   "outputs": [
    {
     "ename": "SyntaxError",
     "evalue": "invalid syntax (1754648876.py, line 2)",
     "output_type": "error",
     "traceback": [
      "\u001b[0;36m  Input \u001b[0;32mIn [16]\u001b[0;36m\u001b[0m\n\u001b[0;31m    s = 'Python isn't difficult'\u001b[0m\n\u001b[0m                    ^\u001b[0m\n\u001b[0;31mSyntaxError\u001b[0m\u001b[0;31m:\u001b[0m invalid syntax\n"
     ]
    }
   ],
   "source": [
    "# 따옴표를 잘못 포함했을 땐 syntax error\n",
    "s = 'Python isn't difficult'"
   ]
  },
  {
   "cell_type": "code",
   "execution_count": 17,
   "id": "97eeb55d",
   "metadata": {},
   "outputs": [
    {
     "ename": "SyntaxError",
     "evalue": "invalid syntax (2079034672.py, line 2)",
     "output_type": "error",
     "traceback": [
      "\u001b[0;36m  Input \u001b[0;32mIn [17]\u001b[0;36m\u001b[0m\n\u001b[0;31m    a = \"He said \"Python is easy\"\"\u001b[0m\n\u001b[0m                  ^\u001b[0m\n\u001b[0;31mSyntaxError\u001b[0m\u001b[0;31m:\u001b[0m invalid syntax\n"
     ]
    }
   ],
   "source": [
    "# 따옴표를 잘못 포함했을 땐 syntax error\n",
    "a = \"He said \"Python is easy\"\""
   ]
  },
  {
   "cell_type": "code",
   "execution_count": 18,
   "id": "ae46f9b5",
   "metadata": {},
   "outputs": [
    {
     "name": "stdout",
     "output_type": "stream",
     "text": [
      "Python isn't difficult\n"
     ]
    }
   ],
   "source": [
    "# 문자열에 따롬표를 포함하는 다른 방법 \n",
    "# \\(역슬래시)를 사용하는 방법: 이스케이프(escape)\n",
    "s = 'Python isn\\'t difficult'\n",
    "print(s)"
   ]
  },
  {
   "cell_type": "markdown",
   "id": "98c476de",
   "metadata": {},
   "source": [
    "# Unit 24 문자열 응용하기\n",
    "문자열은 문자열을 조작하거나 정보를 얻는 다양한 매서드(method)를 제공"
   ]
  },
  {
   "cell_type": "markdown",
   "id": "4db905d2",
   "metadata": {},
   "source": [
    "### 문자열 바꾸기\n",
    "- **replace('바꿀문자열', '새문자열')**: 문자열 안의 문자열을 다른 문자열로 바꿔주는 매소드(문자열 자체는 변경하지 않고 바뀐 결과를 반환)"
   ]
  },
  {
   "cell_type": "code",
   "execution_count": 19,
   "id": "fafc66ab",
   "metadata": {},
   "outputs": [
    {
     "name": "stdout",
     "output_type": "stream",
     "text": [
      "Hello, World!\n"
     ]
    }
   ],
   "source": [
    "s = 'Hello, World!'\n",
    "print(s)"
   ]
  },
  {
   "cell_type": "code",
   "execution_count": 20,
   "id": "1c4fa51d",
   "metadata": {},
   "outputs": [
    {
     "data": {
      "text/plain": [
       "'Hello, python!'"
      ]
     },
     "execution_count": 20,
     "metadata": {},
     "output_type": "execute_result"
    }
   ],
   "source": [
    "# World를 Python으로 바꾸기\n",
    "s.replace('World', 'python')"
   ]
  },
  {
   "cell_type": "code",
   "execution_count": 21,
   "id": "0674b945",
   "metadata": {},
   "outputs": [
    {
     "name": "stdout",
     "output_type": "stream",
     "text": [
      "Hello, World!\n"
     ]
    }
   ],
   "source": [
    "# replace는 문자열 자체는 변경하지 않고 바뀐 결과를 반환하기에 s는 그대로임\n",
    "print(s)"
   ]
  },
  {
   "cell_type": "code",
   "execution_count": 22,
   "id": "14211817",
   "metadata": {},
   "outputs": [
    {
     "name": "stdout",
     "output_type": "stream",
     "text": [
      "Hello, Python!\n"
     ]
    }
   ],
   "source": [
    "# 바뀐 결과를 저장하고 싶으면 다시 s에 할당\n",
    "s = s.replace('World', 'Python')\n",
    "print(s)"
   ]
  },
  {
   "cell_type": "markdown",
   "id": "a8b78cb8",
   "metadata": {},
   "source": [
    "### 문자열 분리하기\n",
    "- **split('기준문자열')**: 기준문자열을 기준으로 문자열을 분리해 리스트로 반환(defalut: ' ')"
   ]
  },
  {
   "cell_type": "code",
   "execution_count": 23,
   "id": "cdee7797",
   "metadata": {},
   "outputs": [
    {
     "data": {
      "text/plain": [
       "['apple,', 'pear,', 'grape,', 'pineapple,', 'orange']"
      ]
     },
     "execution_count": 23,
     "metadata": {},
     "output_type": "execute_result"
    }
   ],
   "source": [
    "# 공백(default)을 기준으로 분리\n",
    "s = 'apple, pear, grape, pineapple, orange'\n",
    "s.split()"
   ]
  },
  {
   "cell_type": "code",
   "execution_count": 24,
   "id": "9fffefa6",
   "metadata": {},
   "outputs": [
    {
     "data": {
      "text/plain": [
       "['apple', ' pear', ' grape', ' pineapple', ' orange']"
      ]
     },
     "execution_count": 24,
     "metadata": {},
     "output_type": "execute_result"
    }
   ],
   "source": [
    "# ','를 기준으로 분리\n",
    "s.split(',')"
   ]
  },
  {
   "cell_type": "markdown",
   "id": "167ae767",
   "metadata": {},
   "source": [
    "### 문자열의 리스트를 연결하기\n",
    "- **join(리스트)**: 구분자 문자열과 문자열 리스트릐 요소를 연결"
   ]
  },
  {
   "cell_type": "code",
   "execution_count": 25,
   "id": "2e983ec3",
   "metadata": {},
   "outputs": [
    {
     "data": {
      "text/plain": [
       "'a b c d e'"
      ]
     },
     "execution_count": 25,
     "metadata": {},
     "output_type": "execute_result"
    }
   ],
   "source": [
    "# 공백을 기준으로 연결\n",
    "str_list = ['a', 'b', 'c', 'd', 'e']\n",
    "\n",
    "' '.join(str_list)"
   ]
  },
  {
   "cell_type": "code",
   "execution_count": 26,
   "id": "76a83508",
   "metadata": {},
   "outputs": [
    {
     "data": {
      "text/plain": [
       "'a,b,c,d,e'"
      ]
     },
     "execution_count": 26,
     "metadata": {},
     "output_type": "execute_result"
    }
   ],
   "source": [
    "# ','를 기준으로 연결\n",
    "','.join(str_list)"
   ]
  },
  {
   "cell_type": "code",
   "execution_count": 27,
   "id": "3bf78e55",
   "metadata": {},
   "outputs": [
    {
     "data": {
      "text/plain": [
       "'a-b-c-d-e'"
      ]
     },
     "execution_count": 27,
     "metadata": {},
     "output_type": "execute_result"
    }
   ],
   "source": [
    "# '-'를 기준으로 연결\n",
    "'-'.join(str_list)"
   ]
  },
  {
   "cell_type": "markdown",
   "id": "445c22c7",
   "metadata": {},
   "source": [
    "### 대소문자 변경\n",
    "- upper(): 문자열을 대문자로 변경\n",
    "- lower(): 문자열을 소문자로 변경"
   ]
  },
  {
   "cell_type": "code",
   "execution_count": 28,
   "id": "db05058f",
   "metadata": {},
   "outputs": [
    {
     "data": {
      "text/plain": [
       "'PYTHON'"
      ]
     },
     "execution_count": 28,
     "metadata": {},
     "output_type": "execute_result"
    }
   ],
   "source": [
    "'python'.upper()"
   ]
  },
  {
   "cell_type": "code",
   "execution_count": 29,
   "id": "a3b899c3",
   "metadata": {},
   "outputs": [
    {
     "data": {
      "text/plain": [
       "'python'"
      ]
     },
     "execution_count": 29,
     "metadata": {},
     "output_type": "execute_result"
    }
   ],
   "source": [
    "'PYTHON'.lower()"
   ]
  },
  {
   "cell_type": "markdown",
   "id": "2bdd9cc7",
   "metadata": {},
   "source": [
    "### 공백 삭제하기\n",
    "- **strip()**: 문자열의 양쪽 공백을 삭제\n",
    "- **lstrip()**: 문자열의 왼쪽 공백을 삭제\n",
    "- **rstrip()**: 문자열의 오른쪽 공백을 삭제"
   ]
  },
  {
   "cell_type": "code",
   "execution_count": 30,
   "id": "ecf80702",
   "metadata": {},
   "outputs": [
    {
     "name": "stdout",
     "output_type": "stream",
     "text": [
      "    python    \n"
     ]
    }
   ],
   "source": [
    "s = '    python    '\n",
    "print(s)"
   ]
  },
  {
   "cell_type": "code",
   "execution_count": 31,
   "id": "ef57d59e",
   "metadata": {},
   "outputs": [
    {
     "data": {
      "text/plain": [
       "'python'"
      ]
     },
     "execution_count": 31,
     "metadata": {},
     "output_type": "execute_result"
    }
   ],
   "source": [
    "# 양쪽 공백 삭제\n",
    "s.strip()"
   ]
  },
  {
   "cell_type": "code",
   "execution_count": 32,
   "id": "64d189c7",
   "metadata": {},
   "outputs": [
    {
     "data": {
      "text/plain": [
       "'python    '"
      ]
     },
     "execution_count": 32,
     "metadata": {},
     "output_type": "execute_result"
    }
   ],
   "source": [
    "# 왼쪽 공백 삭제\n",
    "s.lstrip()"
   ]
  },
  {
   "cell_type": "code",
   "execution_count": 33,
   "id": "6255aaf1",
   "metadata": {},
   "outputs": [
    {
     "data": {
      "text/plain": [
       "'    python'"
      ]
     },
     "execution_count": 33,
     "metadata": {},
     "output_type": "execute_result"
    }
   ],
   "source": [
    "# 오른쪽 공백 삭제\n",
    "s.rstrip()"
   ]
  },
  {
   "cell_type": "markdown",
   "id": "72fda1df",
   "metadata": {},
   "source": [
    "### 특정문자 삭제\n",
    "- **strip('삭제할문자')**: 문자열의 양쪽에서 삭제할 문자를 삭제\n",
    "- **lstrip('삭제할문자')**: 문자열의 왼쪽에서 삭제할 문자를 삭제\n",
    "- **rstrip('삭제할문자')**: 문자열의 오른쪽에서 삭제할 문자를 삭제"
   ]
  },
  {
   "cell_type": "code",
   "execution_count": 36,
   "id": "fde90754",
   "metadata": {},
   "outputs": [
    {
     "name": "stdout",
     "output_type": "stream",
     "text": [
      ", python .\n"
     ]
    }
   ],
   "source": [
    "s = ', python .'\n",
    "print(s)"
   ]
  },
  {
   "cell_type": "code",
   "execution_count": 37,
   "id": "1405e19c",
   "metadata": {},
   "outputs": [
    {
     "data": {
      "text/plain": [
       "' python '"
      ]
     },
     "execution_count": 37,
     "metadata": {},
     "output_type": "execute_result"
    }
   ],
   "source": [
    "# 양쪽에서 .와,를 삭제\n",
    "s.strip(',.')"
   ]
  },
  {
   "cell_type": "code",
   "execution_count": 38,
   "id": "448a4c63",
   "metadata": {},
   "outputs": [
    {
     "data": {
      "text/plain": [
       "' python .'"
      ]
     },
     "execution_count": 38,
     "metadata": {},
     "output_type": "execute_result"
    }
   ],
   "source": [
    "# 왼쪽에서 .와,를 삭제\n",
    "s.lstrip('.,')"
   ]
  },
  {
   "cell_type": "code",
   "execution_count": 39,
   "id": "85bd788f",
   "metadata": {},
   "outputs": [
    {
     "data": {
      "text/plain": [
       "', python '"
      ]
     },
     "execution_count": 39,
     "metadata": {},
     "output_type": "execute_result"
    }
   ],
   "source": [
    "# 오른쪽에서 .와,를 삭제\n",
    "s.rstrip('.,')"
   ]
  },
  {
   "cell_type": "markdown",
   "id": "cb981397",
   "metadata": {},
   "source": [
    "### 문자열 정렬\n",
    "- **center(길이)**: 문자열을 지정된 길이로 만들고 가운데 정렬\n",
    "- **ljust(길이)**: 문자열을 지정된 길이로 만든 뒤 왼쪽 정렬\n",
    "- **rjust(길이)**: 문자열을 지정된 길이로 만든 뒤 오른쪽 정렬"
   ]
  },
  {
   "cell_type": "code",
   "execution_count": 41,
   "id": "86f37f70",
   "metadata": {},
   "outputs": [
    {
     "name": "stdout",
     "output_type": "stream",
     "text": [
      "python\n"
     ]
    },
    {
     "data": {
      "text/plain": [
       "6"
      ]
     },
     "execution_count": 41,
     "metadata": {},
     "output_type": "execute_result"
    }
   ],
   "source": [
    "s = 'python'\n",
    "print(s)\n",
    "len(s)"
   ]
  },
  {
   "cell_type": "code",
   "execution_count": 42,
   "id": "a03ab835",
   "metadata": {},
   "outputs": [
    {
     "data": {
      "text/plain": [
       "'python    '"
      ]
     },
     "execution_count": 42,
     "metadata": {},
     "output_type": "execute_result"
    }
   ],
   "source": [
    "# 문자열을 길이 10으로 만든 뒤 왼쪽으로 정렬\n",
    "# 남은 공간은 공백으로 채움\n",
    "s.ljust(10)"
   ]
  },
  {
   "cell_type": "code",
   "execution_count": 43,
   "id": "ff39c7bc",
   "metadata": {},
   "outputs": [
    {
     "data": {
      "text/plain": [
       "'    python'"
      ]
     },
     "execution_count": 43,
     "metadata": {},
     "output_type": "execute_result"
    }
   ],
   "source": [
    "# 문자열을 길이 10으로 만든 뒤 오른쪽으로 정렬\n",
    "# 남은 공간은 공백으로 채움\n",
    "s.rjust(10)"
   ]
  },
  {
   "cell_type": "code",
   "execution_count": 44,
   "id": "6d02177f",
   "metadata": {},
   "outputs": [
    {
     "data": {
      "text/plain": [
       "'   python   '"
      ]
     },
     "execution_count": 44,
     "metadata": {},
     "output_type": "execute_result"
    }
   ],
   "source": [
    "# 문자열을 길이 12로 만든 뒤 가운데 정렬\n",
    "# 남은 공간은 공백으로 채움\n",
    "s.center(12)"
   ]
  },
  {
   "cell_type": "markdown",
   "id": "1c62d70b",
   "metadata": {},
   "source": [
    "### 매소드 체이닝(method chaining)\n",
    "- **매소드 체이닝**: 매소드를 계속 연결해서 호출하는 것"
   ]
  },
  {
   "cell_type": "code",
   "execution_count": 45,
   "id": "c0a9f8ce",
   "metadata": {},
   "outputs": [
    {
     "data": {
      "text/plain": [
       "'    PYTHON'"
      ]
     },
     "execution_count": 45,
     "metadata": {},
     "output_type": "execute_result"
    }
   ],
   "source": [
    "s = 'python'\n",
    "\n",
    "# 대문자로 변환한 뒤, 길이를 10으로 만들고 오른쪽 정렬\n",
    "s.upper().rjust(10)"
   ]
  },
  {
   "cell_type": "markdown",
   "id": "02586240",
   "metadata": {},
   "source": [
    "### 문자열에 0 채우기\n",
    "- **zfill(길이)**: 지정된 길이에 맞춰서 문자열의 왼쪽에 0을 채움(zero fill)\n",
    "- 문자열의 길이가 지정된 길이보다 길다면 아무것도 채우지 않음"
   ]
  },
  {
   "cell_type": "code",
   "execution_count": 46,
   "id": "94394c17",
   "metadata": {},
   "outputs": [
    {
     "data": {
      "text/plain": [
       "'0035'"
      ]
     },
     "execution_count": 46,
     "metadata": {},
     "output_type": "execute_result"
    }
   ],
   "source": [
    "'35'.zfill(4)"
   ]
  },
  {
   "cell_type": "code",
   "execution_count": 47,
   "id": "e7345afd",
   "metadata": {},
   "outputs": [
    {
     "data": {
      "text/plain": [
       "'0000000035'"
      ]
     },
     "execution_count": 47,
     "metadata": {},
     "output_type": "execute_result"
    }
   ],
   "source": [
    "'35'.zfill(10)"
   ]
  },
  {
   "cell_type": "code",
   "execution_count": 48,
   "id": "815b5bf7",
   "metadata": {},
   "outputs": [
    {
     "data": {
      "text/plain": [
       "'1234'"
      ]
     },
     "execution_count": 48,
     "metadata": {},
     "output_type": "execute_result"
    }
   ],
   "source": [
    "# 아무것도 채우지 않음\n",
    "'1234'.zfill(2)"
   ]
  },
  {
   "cell_type": "markdown",
   "id": "5cba4e68",
   "metadata": {},
   "source": [
    "### 문자열 위치 찾기\n",
    "- **find('찾을문자열')**: 문자열에서 특정 문자를 찾아 그 인덱스를 반환\n",
    "    - 만약 문자열에 찾는 문자가 없으면 -1을 반환\n",
    "    - 왼쪽부터 문자열을 찾고 같은 문자열이 여러 개 있을 경우 처음으로 찾은 문자열의 인덱스를 반환\n",
    "- **rfind('찾을문자열')**: 오른쪽에서부터 특정 문자열을 찾아서 그 인덱스를 반환\n",
    "    - 만약 문자열에 찾는 문자가 없으면 -1을 반환"
   ]
  },
  {
   "cell_type": "code",
   "execution_count": 50,
   "id": "8c0408e4",
   "metadata": {},
   "outputs": [
    {
     "data": {
      "text/plain": [
       "4"
      ]
     },
     "execution_count": 50,
     "metadata": {},
     "output_type": "execute_result"
    }
   ],
   "source": [
    "# find\n",
    "'hello, world!'.find('o')"
   ]
  },
  {
   "cell_type": "code",
   "execution_count": 51,
   "id": "3e883df8",
   "metadata": {},
   "outputs": [
    {
     "data": {
      "text/plain": [
       "8"
      ]
     },
     "execution_count": 51,
     "metadata": {},
     "output_type": "execute_result"
    }
   ],
   "source": [
    "# rfind\n",
    "'hello, world!'.rfind('o')"
   ]
  },
  {
   "cell_type": "code",
   "execution_count": 53,
   "id": "dfc5c2a1",
   "metadata": {},
   "outputs": [
    {
     "data": {
      "text/plain": [
       "-1"
      ]
     },
     "execution_count": 53,
     "metadata": {},
     "output_type": "execute_result"
    }
   ],
   "source": [
    "# 찾는 문자열이 없으면 -1을 반환\n",
    "'hello, world!'.find('i')"
   ]
  },
  {
   "cell_type": "markdown",
   "id": "8aa9497b",
   "metadata": {},
   "source": [
    "- **index('찾을문자열')**: 왼쪽에서부터 특정 문자열을 찾아서 인덱스를 반환\n",
    "- **rindex('찾을문자열')**: 오른쪽에서부터 특정 문자열을 찾아서 인덱스를 반환  \n",
    "\n",
    "**find와 index는 같은 기능을 하지만 find는 찾는 문자열이 없는 경우 -1을 반환하고, index는 찾는 문자열이 없는 경우 error가 난다.** 따라서 상황에 적절한 매소드를 사용"
   ]
  },
  {
   "cell_type": "code",
   "execution_count": 54,
   "id": "e9570892",
   "metadata": {},
   "outputs": [
    {
     "data": {
      "text/plain": [
       "4"
      ]
     },
     "execution_count": 54,
     "metadata": {},
     "output_type": "execute_result"
    }
   ],
   "source": [
    "# index\n",
    "'hello, world!'.index('o')"
   ]
  },
  {
   "cell_type": "code",
   "execution_count": 55,
   "id": "6c0138f3",
   "metadata": {},
   "outputs": [
    {
     "data": {
      "text/plain": [
       "8"
      ]
     },
     "execution_count": 55,
     "metadata": {},
     "output_type": "execute_result"
    }
   ],
   "source": [
    "# rindex\n",
    "'hello, world!'.rindex('o')"
   ]
  },
  {
   "cell_type": "code",
   "execution_count": 56,
   "id": "1b2ba479",
   "metadata": {},
   "outputs": [
    {
     "ename": "ValueError",
     "evalue": "substring not found",
     "output_type": "error",
     "traceback": [
      "\u001b[0;31m---------------------------------------------------------------------------\u001b[0m",
      "\u001b[0;31mValueError\u001b[0m                                Traceback (most recent call last)",
      "Input \u001b[0;32mIn [56]\u001b[0m, in \u001b[0;36m<cell line: 2>\u001b[0;34m()\u001b[0m\n\u001b[1;32m      1\u001b[0m \u001b[38;5;66;03m# 찾는 문자열이 없으면 error\u001b[39;00m\n\u001b[0;32m----> 2\u001b[0m \u001b[38;5;124;43m'\u001b[39;49m\u001b[38;5;124;43mhello, world!\u001b[39;49m\u001b[38;5;124;43m'\u001b[39;49m\u001b[38;5;241;43m.\u001b[39;49m\u001b[43mindex\u001b[49m\u001b[43m(\u001b[49m\u001b[38;5;124;43m'\u001b[39;49m\u001b[38;5;124;43mi\u001b[39;49m\u001b[38;5;124;43m'\u001b[39;49m\u001b[43m)\u001b[49m\n",
      "\u001b[0;31mValueError\u001b[0m: substring not found"
     ]
    }
   ],
   "source": [
    "# 찾는 문자열이 없으면 error\n",
    "'hello, world!'.index('i')"
   ]
  },
  {
   "cell_type": "markdown",
   "id": "e018b2ac",
   "metadata": {},
   "source": [
    "### 문자열 개수 세기\n",
    "- **count('문자열')**: 문자열에서 특정 문자열이 몇 번 나오는지 반환"
   ]
  },
  {
   "cell_type": "code",
   "execution_count": 57,
   "id": "7bad6b62",
   "metadata": {},
   "outputs": [
    {
     "data": {
      "text/plain": [
       "2"
      ]
     },
     "execution_count": 57,
     "metadata": {},
     "output_type": "execute_result"
    }
   ],
   "source": [
    "# 'o'가 몇번 등장하는지 count함\n",
    "'hello, world'.count('o')"
   ]
  },
  {
   "cell_type": "code",
   "execution_count": null,
   "id": "25158af2",
   "metadata": {},
   "outputs": [],
   "source": []
  }
 ],
 "metadata": {
  "kernelspec": {
   "display_name": "Python 3 (ipykernel)",
   "language": "python",
   "name": "python3"
  },
  "language_info": {
   "codemirror_mode": {
    "name": "ipython",
    "version": 3
   },
   "file_extension": ".py",
   "mimetype": "text/x-python",
   "name": "python",
   "nbconvert_exporter": "python",
   "pygments_lexer": "ipython3",
   "version": "3.9.12"
  }
 },
 "nbformat": 4,
 "nbformat_minor": 5
}
