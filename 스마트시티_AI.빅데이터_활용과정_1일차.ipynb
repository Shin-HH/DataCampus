{
 "cells": [
  {
   "cell_type": "markdown",
   "id": "2d9be82a",
   "metadata": {},
   "source": [
    "# Jupyter Notebook\n",
    "주피터 노트북을 실행하면 chrome, edge와 같은 브라우저로 실행  \n",
    "\n",
    "- ln: line number로 실행 순서을 의미함\n",
    "- 확장자명: .ipynb"
   ]
  },
  {
   "cell_type": "markdown",
   "id": "5d74157b",
   "metadata": {},
   "source": [
    "##### 파이썬 버전 확인"
   ]
  },
  {
   "cell_type": "code",
   "execution_count": 2,
   "id": "18be157e",
   "metadata": {},
   "outputs": [
    {
     "name": "stdout",
     "output_type": "stream",
     "text": [
      "3.9.12\n"
     ]
    }
   ],
   "source": [
    "import platform\n",
    "\n",
    "print(platform.python_version())"
   ]
  },
  {
   "cell_type": "markdown",
   "id": "68c18d12",
   "metadata": {},
   "source": [
    "##### 작업 공간 확인"
   ]
  },
  {
   "cell_type": "code",
   "execution_count": 3,
   "id": "251eb212",
   "metadata": {},
   "outputs": [
    {
     "name": "stdout",
     "output_type": "stream",
     "text": [
      "/Users/sinhyeonho/신현호/DataCampus\n"
     ]
    }
   ],
   "source": [
    "import os\n",
    "\n",
    "# get current working directory\n",
    "print(os.getcwd())"
   ]
  },
  {
   "cell_type": "markdown",
   "id": "5850a1c7",
   "metadata": {},
   "source": [
    "### Markdown\n",
    "일반 텍스트 문서의 양식을 편집하는 문법으로, HTML의 형태로 변환이 가능하다.  \n",
    "esc + m을 통해서 markdown으로 변환 가능\n",
    "\n",
    "\n",
    "**\\#**은 제목이라는 의미로 **\\#**이 늘어날수록 하위 제목이 된다.\n",
    "- # Header : 1개 사용\n",
    "- ## Header : 2개 사용\n",
    "- ### Header : 3개 사용\n",
    "- #### Header : 4개 사용\n",
    "- ##### Header : 5개 사용\n",
    "- ###### Header : 6개 사용  "
   ]
  },
  {
   "cell_type": "markdown",
   "id": "4974ec9f",
   "metadata": {},
   "source": [
    "### Markdown 단축키\n",
    "- a : 위에 셀 추가  \n",
    "- b : 아래에 셀 추가  \n",
    "- dd : 셀 삭제  \n",
    "- m : markdown으로 변경  \n",
    "- y : code로 변경  \n",
    "- h : 단축키 확인  \n",
    "- o : output 접기  \n",
    "- shift + m : 선택된 셀들을 합침(merge)  "
   ]
  },
  {
   "cell_type": "markdown",
   "id": "1cb53a8f",
   "metadata": {},
   "source": [
    "# 데이터 타입\n",
    "### 식별자\n",
    "식별자(identifier)는 변수명, 함수명 등을 지정하는데 사용한다.  \n",
    "- 한글, 영문, 숫자, 밑줄 사용가능\n",
    "- 숫자외 다른 문자로 시작하며 대소문자를 구분\n",
    "\n",
    "### 데이터 타입\n",
    "파이썬은 많은 내장 데이터 타입(built-in data type)을 가지고 있다.\n",
    "- **int**(integer, 정수형)\n",
    "- **float**(floating-point number, 실수형)\n",
    "- **complex**(complex number, 복소수형)\n",
    "- **bool**(boolean, 참/거짓)\n",
    "- **str**(string, 문자열)\n",
    "- **list**(순서가 있는 배열, 수정/추가/삭제 가능)\n",
    "- **tuple**(순서가 있는 배열, 수정/추가/삭제 불가)\n",
    "- **dict**(dictionary, key와 value의 쌍)\n",
    "- **set**(순서가 없고 중복 불가)"
   ]
  },
  {
   "cell_type": "markdown",
   "id": "9f855606",
   "metadata": {},
   "source": [
    "##### int, float, complex"
   ]
  },
  {
   "cell_type": "code",
   "execution_count": 7,
   "id": "9f3498fc",
   "metadata": {},
   "outputs": [
    {
     "name": "stdout",
     "output_type": "stream",
     "text": [
      "a의 자료형: <class 'int'>\n",
      "b의 자료형: <class 'float'>\n",
      "c의 자료형: <class 'complex'>\n"
     ]
    }
   ],
   "source": [
    "a = 1 # int\n",
    "b = 1.1234 # float\n",
    "c = 3 + 3j # complex\n",
    "\n",
    "# type함수: 변수의 자료형(타입)을 확인\n",
    "print('a의 자료형:', type(a))\n",
    "print('b의 자료형:', type(b))\n",
    "print('c의 자료형:', type(c))"
   ]
  },
  {
   "cell_type": "code",
   "execution_count": 9,
   "id": "7203fc0f",
   "metadata": {},
   "outputs": [
    {
     "name": "stdout",
     "output_type": "stream",
     "text": [
      "(5.1234+3j)\n"
     ]
    }
   ],
   "source": [
    "# 숫자간의 연산도 가능하다\n",
    "d = a + b + c\n",
    "print(d)"
   ]
  },
  {
   "cell_type": "markdown",
   "id": "544d9521",
   "metadata": {},
   "source": [
    "##### str\n",
    "- ''\n",
    "- \"\"\n",
    "- ''''''\n",
    "- \"\"\"\"\"\"  \n",
    "문자열 안에 숫자를 써도 문자로 인식  \n",
    "len(): 문자열의 길이를 반환하는 함수"
   ]
  },
  {
   "cell_type": "code",
   "execution_count": 10,
   "id": "91558ab1",
   "metadata": {},
   "outputs": [
    {
     "name": "stdout",
     "output_type": "stream",
     "text": [
      "Hello, Bigdata\n"
     ]
    }
   ],
   "source": [
    "sa = 'Hello, Bigdata'\n",
    "print(sa)"
   ]
  },
  {
   "cell_type": "code",
   "execution_count": 11,
   "id": "0a7aaf8f",
   "metadata": {},
   "outputs": [
    {
     "name": "stdout",
     "output_type": "stream",
     "text": [
      "Hello, Bigdata\n"
     ]
    }
   ],
   "source": [
    "sa = \"Hello, Bigdata\"\n",
    "print(sa)"
   ]
  },
  {
   "cell_type": "code",
   "execution_count": 12,
   "id": "5b59c4ac",
   "metadata": {},
   "outputs": [
    {
     "name": "stdout",
     "output_type": "stream",
     "text": [
      "Hello, Bigdata\n"
     ]
    }
   ],
   "source": [
    "sa = '''Hello, Bigdata'''\n",
    "print(sa)"
   ]
  },
  {
   "cell_type": "code",
   "execution_count": 13,
   "id": "ea98e5ec",
   "metadata": {},
   "outputs": [
    {
     "name": "stdout",
     "output_type": "stream",
     "text": [
      "Hello, Bigdata\n"
     ]
    }
   ],
   "source": [
    "sa = \"\"\"Hello, Bigdata\"\"\"\n",
    "print(sa)"
   ]
  },
  {
   "cell_type": "code",
   "execution_count": 14,
   "id": "c67ff553",
   "metadata": {},
   "outputs": [
    {
     "name": "stdout",
     "output_type": "stream",
     "text": [
      "and Cheer up!\n"
     ]
    }
   ],
   "source": [
    "se = 'and Cheer up!'\n",
    "print(se)"
   ]
  },
  {
   "cell_type": "code",
   "execution_count": 16,
   "id": "d6ffd3ac",
   "metadata": {},
   "outputs": [
    {
     "name": "stdout",
     "output_type": "stream",
     "text": [
      "Hello, Bigdataand Cheer up!\n"
     ]
    }
   ],
   "source": [
    "# 문자열을 더하면 이어서 출력\n",
    "print(sa + se)"
   ]
  },
  {
   "cell_type": "code",
   "execution_count": 18,
   "id": "ef280721",
   "metadata": {},
   "outputs": [
    {
     "name": "stdout",
     "output_type": "stream",
     "text": [
      "==============================\n"
     ]
    }
   ],
   "source": [
    "# 문자열을 곱하면 반복해서 출력\n",
    "print('=' * 30) # =를 30번 반복"
   ]
  },
  {
   "cell_type": "code",
   "execution_count": 20,
   "id": "7921d80c",
   "metadata": {},
   "outputs": [
    {
     "data": {
      "text/plain": [
       "13"
      ]
     },
     "execution_count": 20,
     "metadata": {},
     "output_type": "execute_result"
    }
   ],
   "source": [
    "# len: 문자열의 길이를 반환하는 함수\n",
    "len(se)"
   ]
  },
  {
   "cell_type": "markdown",
   "id": "6ec5e13a",
   "metadata": {},
   "source": [
    "##### 문자열 인덱싱(indexing)\n",
    "- **indexing**: 특정한 위치의 데이터만 골라오는 것([] 대괄호 사용) \n",
    "\n",
    "1. 각각의 문자열은 위치에 따른 고유 번호를 가짐  \n",
    "2. 파이썬의 **index는 0부터 시작!!**  \n",
    "3. **\\-**는 뒤에서 부터 시작(뒤에서 셀때는 -1부터 시작)  "
   ]
  },
  {
   "cell_type": "code",
   "execution_count": 25,
   "id": "cf18d947",
   "metadata": {
    "scrolled": true
   },
   "outputs": [
    {
     "name": "stdout",
     "output_type": "stream",
     "text": [
      "a: this is a string\n",
      "a[0]: t\n",
      "a[2]: i\n",
      "a[-1]: g\n"
     ]
    }
   ],
   "source": [
    "a = 'this is a string'\n",
    "print('a:', a)\n",
    "\n",
    "# a[0]은 첫번째에 있는 t를 indexing\n",
    "print('a[0]:', a[0])\n",
    "\n",
    "# a[2]는 3번째에 있는 i를 indexing\n",
    "print('a[2]:', a[2])\n",
    "\n",
    "# a[-1]은 마지막에 있는 g를 indexing\n",
    "print('a[-1]:', a[-1])"
   ]
  },
  {
   "cell_type": "markdown",
   "id": "dffd84b0",
   "metadata": {},
   "source": [
    "##### 문자열 슬라이싱(slicing)\n",
    "- **slicing**: 자료 구조 내에서 여러 개의 항목에 접근하는 것\n",
    "- **slicing 방법**: 변수이름[시작번호: 끝번호]  \n",
    "\n",
    "**슬라이싱에서는 '끝번호'값은 제외하고 출력한다!!**"
   ]
  },
  {
   "cell_type": "code",
   "execution_count": 26,
   "id": "d8241c9e",
   "metadata": {},
   "outputs": [
    {
     "name": "stdout",
     "output_type": "stream",
     "text": [
      "20200722wed\n"
     ]
    }
   ],
   "source": [
    "b = '20200722wed'\n",
    "print(b)"
   ]
  },
  {
   "cell_type": "code",
   "execution_count": 27,
   "id": "9a002434",
   "metadata": {},
   "outputs": [
    {
     "name": "stdout",
     "output_type": "stream",
     "text": [
      "2020\n"
     ]
    }
   ],
   "source": [
    "# 년도\n",
    "print(b[0:4])"
   ]
  },
  {
   "cell_type": "code",
   "execution_count": 28,
   "id": "876028f8",
   "metadata": {},
   "outputs": [
    {
     "name": "stdout",
     "output_type": "stream",
     "text": [
      "07\n"
     ]
    }
   ],
   "source": [
    "# 월\n",
    "print(b[4:6])"
   ]
  },
  {
   "cell_type": "code",
   "execution_count": 29,
   "id": "8123a7be",
   "metadata": {},
   "outputs": [
    {
     "name": "stdout",
     "output_type": "stream",
     "text": [
      "22\n"
     ]
    }
   ],
   "source": [
    "# 일\n",
    "print(b[6:8])"
   ]
  },
  {
   "cell_type": "code",
   "execution_count": 30,
   "id": "7c055420",
   "metadata": {},
   "outputs": [
    {
     "name": "stdout",
     "output_type": "stream",
     "text": [
      "wed\n"
     ]
    }
   ],
   "source": [
    "# 요일\n",
    "print(b[8:])"
   ]
  },
  {
   "cell_type": "code",
   "execution_count": 31,
   "id": "52f7af22",
   "metadata": {},
   "outputs": [
    {
     "name": "stdout",
     "output_type": "stream",
     "text": [
      "20200722wed\n"
     ]
    }
   ],
   "source": [
    "# 전체 슬라이싱\n",
    "print(b[:])"
   ]
  },
  {
   "cell_type": "code",
   "execution_count": 33,
   "id": "d1c00929",
   "metadata": {},
   "outputs": [
    {
     "name": "stdout",
     "output_type": "stream",
     "text": [
      "202007\n"
     ]
    }
   ],
   "source": [
    "# -6번째까지\n",
    "print(b[:-5])"
   ]
  },
  {
   "cell_type": "markdown",
   "id": "6b33aa3c",
   "metadata": {},
   "source": [
    "##### 문자열 대치\n",
    "- replace(): 문자열을 대치하는 매소드"
   ]
  },
  {
   "cell_type": "code",
   "execution_count": 36,
   "id": "9a6b99ea",
   "metadata": {},
   "outputs": [],
   "source": [
    "a = 'this is a string'"
   ]
  },
  {
   "cell_type": "code",
   "execution_count": 37,
   "id": "8d9971ae",
   "metadata": {},
   "outputs": [
    {
     "data": {
      "text/plain": [
       "'string'"
      ]
     },
     "execution_count": 37,
     "metadata": {},
     "output_type": "execute_result"
    }
   ],
   "source": [
    "a[10:]"
   ]
  },
  {
   "cell_type": "code",
   "execution_count": 38,
   "id": "2a513e5f",
   "metadata": {},
   "outputs": [
    {
     "ename": "TypeError",
     "evalue": "'str' object does not support item assignment",
     "output_type": "error",
     "traceback": [
      "\u001b[0;31m---------------------------------------------------------------------------\u001b[0m",
      "\u001b[0;31mTypeError\u001b[0m                                 Traceback (most recent call last)",
      "Input \u001b[0;32mIn [38]\u001b[0m, in \u001b[0;36m<cell line: 3>\u001b[0;34m()\u001b[0m\n\u001b[1;32m      1\u001b[0m \u001b[38;5;66;03m# error\u001b[39;00m\n\u001b[1;32m      2\u001b[0m \u001b[38;5;66;03m# 길이도 다르기 때문\u001b[39;00m\n\u001b[0;32m----> 3\u001b[0m a[\u001b[38;5;241m10\u001b[39m:] \u001b[38;5;241m=\u001b[39m \u001b[38;5;124m'\u001b[39m\u001b[38;5;124mrope\u001b[39m\u001b[38;5;124m'\u001b[39m\n",
      "\u001b[0;31mTypeError\u001b[0m: 'str' object does not support item assignment"
     ]
    }
   ],
   "source": [
    "# error\n",
    "# 길이도 다르기 때문\n",
    "a[10:] = 'rope'"
   ]
  },
  {
   "cell_type": "code",
   "execution_count": 39,
   "id": "6cbd37ea",
   "metadata": {},
   "outputs": [],
   "source": [
    "c = a.replace('string', 'rope')"
   ]
  },
  {
   "cell_type": "code",
   "execution_count": 40,
   "id": "118ebc3a",
   "metadata": {},
   "outputs": [
    {
     "name": "stdout",
     "output_type": "stream",
     "text": [
      "this is a rope\n"
     ]
    }
   ],
   "source": [
    "print(c)"
   ]
  },
  {
   "cell_type": "markdown",
   "id": "b255ea48",
   "metadata": {},
   "source": [
    "##### 문자열 format\n",
    "- %d: 숫자\n",
    "- %s: 문자\n",
    "- %f: 소수\n",
    "- %10s: 길이를 10으로 하고 오른쪽 정렬을 한다.\n",
    "- %-10s: 길이를 10으로 하고 왼쪽 정렬을 한다."
   ]
  },
  {
   "cell_type": "code",
   "execution_count": 41,
   "id": "ca0b0a6d",
   "metadata": {},
   "outputs": [],
   "source": [
    "a = 11"
   ]
  },
  {
   "cell_type": "code",
   "execution_count": 42,
   "id": "87b0bd32",
   "metadata": {},
   "outputs": [
    {
     "data": {
      "text/plain": [
       "'a equals 3'"
      ]
     },
     "execution_count": 42,
     "metadata": {},
     "output_type": "execute_result"
    }
   ],
   "source": [
    "'a equals %d' %3"
   ]
  },
  {
   "cell_type": "code",
   "execution_count": 43,
   "id": "b1ae11f9",
   "metadata": {},
   "outputs": [
    {
     "data": {
      "text/plain": [
       "'a equals 11'"
      ]
     },
     "execution_count": 43,
     "metadata": {},
     "output_type": "execute_result"
    }
   ],
   "source": [
    "'a equals %d' %11"
   ]
  },
  {
   "cell_type": "markdown",
   "id": "232661c9",
   "metadata": {},
   "source": [
    "##### 문자열 매소드\n",
    "- 문자열.count(‘문자’) : 한문자에 대한 개수를 샘\n",
    "- 문자열.find(‘문자’) : 찾고자 하는 문자의 위치 파악(같은 문자가 있을 땐 가장 앞에 있는 문자 위치, 대소문자 구분함, -1이 결과값으로 나올 땐 해당 문자가 없음)\n",
    "- 문자열.index(‘문자’): find 함수와 같이 찾고자 하는 문자의 위치를 알려주지만, 문자가 없을 땐 에러가 발생\n",
    "- “,”.join(‘문자’): 문자 각각 사이를 ,로 구분지음\n",
    "- 문자열.upper(): 소문자를 모두 대문자로 표현\n",
    "- 문자열.lower(): 대문자를 모두 소문자로 표현\n",
    "- 문자열.strip(): 앞뒤에 양쪽의 공백을 모두 없애기\n",
    "- 문자열.lstrip(): 왼쪽의 공백만 없애기\n",
    "- 문자열.rstrip(): 오른쪽의 공백만 없애기\n",
    "- 문자열.replace(“old문자”,“new문자”): old문자를 new문자로 변경\n",
    "- 문자열.split(): 문자열을 나누어 주는 함수. space, tab, enter등을 기준으로 문자열을 나누어줌. 특정 값을 입력하면 해당 값 기준으로 나누어줌"
   ]
  },
  {
   "cell_type": "code",
   "execution_count": 44,
   "id": "7b606ea4",
   "metadata": {},
   "outputs": [],
   "source": [
    "a = 'Korean culture'"
   ]
  },
  {
   "cell_type": "code",
   "execution_count": 45,
   "id": "a2ded14f",
   "metadata": {},
   "outputs": [
    {
     "data": {
      "text/plain": [
       "2"
      ]
     },
     "execution_count": 45,
     "metadata": {},
     "output_type": "execute_result"
    }
   ],
   "source": [
    "# 문자의 개수를 새는 매소드\n",
    "a.count('u')"
   ]
  },
  {
   "cell_type": "code",
   "execution_count": 47,
   "id": "2c43b35b",
   "metadata": {},
   "outputs": [
    {
     "data": {
      "text/plain": [
       "8"
      ]
     },
     "execution_count": 47,
     "metadata": {},
     "output_type": "execute_result"
    }
   ],
   "source": [
    "# 문자를 찾는 매소드(인덱스를 반환)\n",
    "a.find('u')"
   ]
  },
  {
   "cell_type": "code",
   "execution_count": 48,
   "id": "f3935b5b",
   "metadata": {},
   "outputs": [
    {
     "data": {
      "text/plain": [
       "0"
      ]
     },
     "execution_count": 48,
     "metadata": {},
     "output_type": "execute_result"
    }
   ],
   "source": [
    "a.find('K')"
   ]
  },
  {
   "cell_type": "code",
   "execution_count": 49,
   "id": "41e76022",
   "metadata": {},
   "outputs": [
    {
     "data": {
      "text/plain": [
       "-1"
      ]
     },
     "execution_count": 49,
     "metadata": {},
     "output_type": "execute_result"
    }
   ],
   "source": [
    "# 대소문자 구분, -1이 나올 때는 해당 문자가 없는 것\n",
    "a.find('k')"
   ]
  },
  {
   "cell_type": "code",
   "execution_count": 50,
   "id": "4f272eea",
   "metadata": {},
   "outputs": [
    {
     "data": {
      "text/plain": [
       "0"
      ]
     },
     "execution_count": 50,
     "metadata": {},
     "output_type": "execute_result"
    }
   ],
   "source": [
    "a.index('K')"
   ]
  },
  {
   "cell_type": "code",
   "execution_count": 52,
   "id": "1baa768b",
   "metadata": {},
   "outputs": [
    {
     "ename": "ValueError",
     "evalue": "substring not found",
     "output_type": "error",
     "traceback": [
      "\u001b[0;31m---------------------------------------------------------------------------\u001b[0m",
      "\u001b[0;31mValueError\u001b[0m                                Traceback (most recent call last)",
      "Input \u001b[0;32mIn [52]\u001b[0m, in \u001b[0;36m<cell line: 6>\u001b[0;34m()\u001b[0m\n\u001b[1;32m      1\u001b[0m \u001b[38;5;66;03m# find와 같이 해당하는 문제의 인덱스를 반환함\u001b[39;00m\n\u001b[1;32m      2\u001b[0m \u001b[38;5;124;03m'''\u001b[39;00m\n\u001b[1;32m      3\u001b[0m \u001b[38;5;124;03m단 index는 find와는 달리 값이 없으면 error가 발생\u001b[39;00m\n\u001b[1;32m      4\u001b[0m \u001b[38;5;124;03m따라서 상황에 따라서 find, index 중 적합한 매소드를 사용\u001b[39;00m\n\u001b[1;32m      5\u001b[0m \u001b[38;5;124;03m'''\u001b[39;00m\n\u001b[0;32m----> 6\u001b[0m \u001b[43ma\u001b[49m\u001b[38;5;241;43m.\u001b[39;49m\u001b[43mindex\u001b[49m\u001b[43m(\u001b[49m\u001b[38;5;124;43m'\u001b[39;49m\u001b[38;5;124;43mk\u001b[39;49m\u001b[38;5;124;43m'\u001b[39;49m\u001b[43m)\u001b[49m\n",
      "\u001b[0;31mValueError\u001b[0m: substring not found"
     ]
    }
   ],
   "source": [
    "# find와 같이 해당하는 문제의 인덱스를 반환함\n",
    "'''\n",
    "단 index는 find와는 달리 값이 없으면 error가 발생\n",
    "따라서 상황에 따라서 find, index 중 적합한 매소드를 사용\n",
    "'''\n",
    "a.index('k')"
   ]
  },
  {
   "cell_type": "code",
   "execution_count": 54,
   "id": "f27f613f",
   "metadata": {},
   "outputs": [
    {
     "data": {
      "text/plain": [
       "'K,o,r,e,a,n, ,c,u,l,t,u,r,e'"
      ]
     },
     "execution_count": 54,
     "metadata": {},
     "output_type": "execute_result"
    }
   ],
   "source": [
    "# 문자열을 ','로 구분함\n",
    "','.join('Korean culture')"
   ]
  },
  {
   "cell_type": "code",
   "execution_count": 55,
   "id": "8158a884",
   "metadata": {},
   "outputs": [
    {
     "data": {
      "text/plain": [
       "'KOREAN CULTURE'"
      ]
     },
     "execution_count": 55,
     "metadata": {},
     "output_type": "execute_result"
    }
   ],
   "source": [
    "# 대문자로 변환\n",
    "a.upper()"
   ]
  },
  {
   "cell_type": "code",
   "execution_count": 56,
   "id": "4ededbb0",
   "metadata": {},
   "outputs": [
    {
     "data": {
      "text/plain": [
       "'korean culture'"
      ]
     },
     "execution_count": 56,
     "metadata": {},
     "output_type": "execute_result"
    }
   ],
   "source": [
    "# 소문자로 변환\n",
    "a.lower()"
   ]
  },
  {
   "cell_type": "code",
   "execution_count": 57,
   "id": "670fd928",
   "metadata": {},
   "outputs": [],
   "source": [
    "b = '    Korean Culture    '"
   ]
  },
  {
   "cell_type": "code",
   "execution_count": 58,
   "id": "aa1d52ad",
   "metadata": {},
   "outputs": [
    {
     "data": {
      "text/plain": [
       "'Korean Culture'"
      ]
     },
     "execution_count": 58,
     "metadata": {},
     "output_type": "execute_result"
    }
   ],
   "source": [
    "# 양쪽 공백을 지움\n",
    "b.strip()"
   ]
  },
  {
   "cell_type": "code",
   "execution_count": 59,
   "id": "1a19b144",
   "metadata": {},
   "outputs": [
    {
     "data": {
      "text/plain": [
       "'Korean Culture    '"
      ]
     },
     "execution_count": 59,
     "metadata": {},
     "output_type": "execute_result"
    }
   ],
   "source": [
    "# 왼쪽 공백을 지움\n",
    "b.lstrip()"
   ]
  },
  {
   "cell_type": "code",
   "execution_count": 60,
   "id": "b1636c10",
   "metadata": {},
   "outputs": [
    {
     "data": {
      "text/plain": [
       "'    Korean Culture'"
      ]
     },
     "execution_count": 60,
     "metadata": {},
     "output_type": "execute_result"
    }
   ],
   "source": [
    "# 오른쪽 공백을 지움\n",
    "b.rstrip()"
   ]
  },
  {
   "cell_type": "code",
   "execution_count": 61,
   "id": "84b59ea1",
   "metadata": {},
   "outputs": [
    {
     "data": {
      "text/plain": [
       "'American culture'"
      ]
     },
     "execution_count": 61,
     "metadata": {},
     "output_type": "execute_result"
    }
   ],
   "source": [
    "# 문자열을 대치함\n",
    "a.replace('Korean', 'American')"
   ]
  },
  {
   "cell_type": "code",
   "execution_count": 62,
   "id": "5adb30eb",
   "metadata": {},
   "outputs": [
    {
     "data": {
      "text/plain": [
       "['Korean', 'culture']"
      ]
     },
     "execution_count": 62,
     "metadata": {},
     "output_type": "execute_result"
    }
   ],
   "source": [
    "# 문자열을 분리해서 리스트로 반환\n",
    "a.split()"
   ]
  },
  {
   "cell_type": "code",
   "execution_count": 63,
   "id": "b7865ab2",
   "metadata": {},
   "outputs": [],
   "source": [
    "c = 'Korean & American'"
   ]
  },
  {
   "cell_type": "code",
   "execution_count": 64,
   "id": "a3a18f82",
   "metadata": {},
   "outputs": [
    {
     "data": {
      "text/plain": [
       "['Korean ', ' American']"
      ]
     },
     "execution_count": 64,
     "metadata": {},
     "output_type": "execute_result"
    }
   ],
   "source": [
    "c.split('&')"
   ]
  },
  {
   "cell_type": "markdown",
   "id": "07211036",
   "metadata": {},
   "source": [
    "##### bool type\n",
    "- **bool( )**함수 : **참/거짓을 식별**\n",
    "- bool( ) 함수 이용시 문자열, 리스트, 튜플, 딕셔너리가 비어져있으면 False가 되고 그렇지 않으면 True가 됨\n",
    "- bool( ) 함수 이용시 **숫자일 때 0이면 Flase**이고 그렇지 않으면 True가 됨"
   ]
  },
  {
   "cell_type": "code",
   "execution_count": 65,
   "id": "772e909a",
   "metadata": {},
   "outputs": [],
   "source": [
    "a = True"
   ]
  },
  {
   "cell_type": "code",
   "execution_count": 66,
   "id": "f1b5b579",
   "metadata": {
    "scrolled": true
   },
   "outputs": [
    {
     "data": {
      "text/plain": [
       "bool"
      ]
     },
     "execution_count": 66,
     "metadata": {},
     "output_type": "execute_result"
    }
   ],
   "source": [
    "type(a)"
   ]
  },
  {
   "cell_type": "code",
   "execution_count": 67,
   "id": "6a8e1a0b",
   "metadata": {},
   "outputs": [],
   "source": [
    "b = False"
   ]
  },
  {
   "cell_type": "code",
   "execution_count": 68,
   "id": "a7e4fda3",
   "metadata": {},
   "outputs": [
    {
     "data": {
      "text/plain": [
       "bool"
      ]
     },
     "execution_count": 68,
     "metadata": {},
     "output_type": "execute_result"
    }
   ],
   "source": [
    "type(b)"
   ]
  },
  {
   "cell_type": "code",
   "execution_count": 69,
   "id": "01801c1a",
   "metadata": {},
   "outputs": [
    {
     "data": {
      "text/plain": [
       "False"
      ]
     },
     "execution_count": 69,
     "metadata": {},
     "output_type": "execute_result"
    }
   ],
   "source": [
    "# and 연산자\n",
    "# 둘 다 True일 때만 True\n",
    "a and b"
   ]
  },
  {
   "cell_type": "code",
   "execution_count": 70,
   "id": "7935a607",
   "metadata": {},
   "outputs": [
    {
     "data": {
      "text/plain": [
       "True"
      ]
     },
     "execution_count": 70,
     "metadata": {},
     "output_type": "execute_result"
    }
   ],
   "source": [
    "# or 연산자\n",
    "# 둘 중 하나만 True여도 True\n",
    "a or b"
   ]
  },
  {
   "cell_type": "code",
   "execution_count": 71,
   "id": "961f635b",
   "metadata": {},
   "outputs": [
    {
     "data": {
      "text/plain": [
       "False"
      ]
     },
     "execution_count": 71,
     "metadata": {},
     "output_type": "execute_result"
    }
   ],
   "source": [
    "# not 연산자\n",
    "# bool type을 바꿈\n",
    "not True"
   ]
  },
  {
   "cell_type": "code",
   "execution_count": 72,
   "id": "5cb30c40",
   "metadata": {},
   "outputs": [
    {
     "data": {
      "text/plain": [
       "True"
      ]
     },
     "execution_count": 72,
     "metadata": {},
     "output_type": "execute_result"
    }
   ],
   "source": [
    "not False"
   ]
  },
  {
   "cell_type": "code",
   "execution_count": 73,
   "id": "634c4345",
   "metadata": {},
   "outputs": [
    {
     "data": {
      "text/plain": [
       "True"
      ]
     },
     "execution_count": 73,
     "metadata": {},
     "output_type": "execute_result"
    }
   ],
   "source": [
    "# bool함수\n",
    "bool('abc')"
   ]
  },
  {
   "cell_type": "code",
   "execution_count": 74,
   "id": "ba15cdfb",
   "metadata": {},
   "outputs": [
    {
     "data": {
      "text/plain": [
       "False"
      ]
     },
     "execution_count": 74,
     "metadata": {},
     "output_type": "execute_result"
    }
   ],
   "source": [
    "bool('')"
   ]
  },
  {
   "cell_type": "code",
   "execution_count": 75,
   "id": "14d7a574",
   "metadata": {},
   "outputs": [
    {
     "data": {
      "text/plain": [
       "True"
      ]
     },
     "execution_count": 75,
     "metadata": {},
     "output_type": "execute_result"
    }
   ],
   "source": [
    "bool([1, 2, 3])"
   ]
  },
  {
   "cell_type": "code",
   "execution_count": 76,
   "id": "09d37516",
   "metadata": {},
   "outputs": [
    {
     "data": {
      "text/plain": [
       "False"
      ]
     },
     "execution_count": 76,
     "metadata": {},
     "output_type": "execute_result"
    }
   ],
   "source": [
    "bool([])"
   ]
  },
  {
   "cell_type": "code",
   "execution_count": 77,
   "id": "6667d3f8",
   "metadata": {},
   "outputs": [
    {
     "data": {
      "text/plain": [
       "False"
      ]
     },
     "execution_count": 77,
     "metadata": {},
     "output_type": "execute_result"
    }
   ],
   "source": [
    "bool(0)"
   ]
  },
  {
   "cell_type": "markdown",
   "id": "93c803d0",
   "metadata": {},
   "source": [
    "##### 리스트(list) 타입\n",
    "리스트는 대괄호 []안에 각 요소 값들을 쉼표 ,로 구분한다.  \n",
    "숫자, 문자, 숫자 + 문자, 리스트 안에 리스트등의 요소가 가능하다!!"
   ]
  },
  {
   "cell_type": "code",
   "execution_count": 79,
   "id": "06c3fd05",
   "metadata": {},
   "outputs": [
    {
     "data": {
      "text/plain": [
       "[]"
      ]
     },
     "execution_count": 79,
     "metadata": {},
     "output_type": "execute_result"
    }
   ],
   "source": [
    "# 빈리스트\n",
    "a = []\n",
    "a = list()\n",
    "\n",
    "a"
   ]
  },
  {
   "cell_type": "code",
   "execution_count": 80,
   "id": "7b6d7984",
   "metadata": {},
   "outputs": [
    {
     "data": {
      "text/plain": [
       "[1, 2, 3, 4, 5]"
      ]
     },
     "execution_count": 80,
     "metadata": {},
     "output_type": "execute_result"
    }
   ],
   "source": [
    "# 숫자형 리스트\n",
    "b = [1, 2, 3, 4, 5]\n",
    "b"
   ]
  },
  {
   "cell_type": "code",
   "execution_count": 81,
   "id": "6d6bb070",
   "metadata": {},
   "outputs": [
    {
     "data": {
      "text/plain": [
       "['red', 'blue', 'yellow']"
      ]
     },
     "execution_count": 81,
     "metadata": {},
     "output_type": "execute_result"
    }
   ],
   "source": [
    "# 문자형 리스트\n",
    "c = ['red', 'blue', 'yellow']\n",
    "c"
   ]
  },
  {
   "cell_type": "code",
   "execution_count": 85,
   "id": "06012020",
   "metadata": {},
   "outputs": [
    {
     "data": {
      "text/plain": [
       "[1, 2, 'red', 'blue']"
      ]
     },
     "execution_count": 85,
     "metadata": {},
     "output_type": "execute_result"
    }
   ],
   "source": [
    "# 숫자와 문자 같이 가능\n",
    "d = [1, 2, 'red', 'blue']\n",
    "d"
   ]
  },
  {
   "cell_type": "code",
   "execution_count": 88,
   "id": "9f531902",
   "metadata": {},
   "outputs": [
    {
     "data": {
      "text/plain": [
       "[1, 2, ['red', 'blue']]"
      ]
     },
     "execution_count": 88,
     "metadata": {},
     "output_type": "execute_result"
    }
   ],
   "source": [
    "# 리스트 안에 리스트 가능\n",
    "e = [1, 2, ['red', 'blue']]\n",
    "e"
   ]
  },
  {
   "cell_type": "markdown",
   "id": "f194ba55",
   "metadata": {},
   "source": [
    "##### 리스트의 인덱싱(Indexing)\n",
    "리스트 인덱싱도 문자열 인덱싱과 마찬가지로 위치를 기반으로 인덱싱(똑같이 0부터 시작)  \n",
    "- 인덱싱 방법: 변수이름[인덱스]"
   ]
  },
  {
   "cell_type": "code",
   "execution_count": 96,
   "id": "f54aad86",
   "metadata": {},
   "outputs": [
    {
     "name": "stdout",
     "output_type": "stream",
     "text": [
      "[1, 2, 3, 4, 5]\n",
      "b[0]: 1\n",
      "b[3]: 4\n",
      "b[-1]: 5\n"
     ]
    }
   ],
   "source": [
    "print(b)\n",
    "print('b[0]:', b[0])\n",
    "print('b[3]:', b[3])\n",
    "print('b[-1]:', b[-1])"
   ]
  },
  {
   "cell_type": "code",
   "execution_count": 97,
   "id": "24ef7404",
   "metadata": {},
   "outputs": [
    {
     "data": {
      "text/plain": [
       "4"
      ]
     },
     "execution_count": 97,
     "metadata": {},
     "output_type": "execute_result"
    }
   ],
   "source": [
    "b[0] + b[2]"
   ]
  },
  {
   "cell_type": "code",
   "execution_count": 98,
   "id": "b4c8d6b8",
   "metadata": {},
   "outputs": [],
   "source": [
    "a = [1, 2, 3, 4, 5, ['a', 'b', 'c', 'd', 'e'], 7, 8, 9]"
   ]
  },
  {
   "cell_type": "code",
   "execution_count": 99,
   "id": "c232d2df",
   "metadata": {},
   "outputs": [
    {
     "name": "stdout",
     "output_type": "stream",
     "text": [
      "[1, 2, 3, 4, 5, ['a', 'b', 'c', 'd', 'e'], 7, 8, 9]\n",
      "a[0]: 1\n",
      "a[-1]: 9\n",
      "a[3]: 4\n",
      "a[5]: ['a', 'b', 'c', 'd', 'e']\n"
     ]
    }
   ],
   "source": [
    "print(a)\n",
    "print('a[0]:', a[0])\n",
    "print('a[-1]:', a[-1])\n",
    "print('a[3]:', a[3])\n",
    "print('a[5]:', a[5])"
   ]
  },
  {
   "cell_type": "code",
   "execution_count": 100,
   "id": "dbd2c2aa",
   "metadata": {},
   "outputs": [
    {
     "name": "stdout",
     "output_type": "stream",
     "text": [
      "a[5][0]: a\n",
      "a[5][2]: c\n",
      "a[5][-1]: e\n"
     ]
    }
   ],
   "source": [
    "# list 안에 list에서 다시 인덱싱 가능\n",
    "print('a[5][0]:', a[5][0])\n",
    "print('a[5][2]:', a[5][2])\n",
    "print('a[5][-1]:', a[5][-1])"
   ]
  },
  {
   "cell_type": "markdown",
   "id": "2f7be773",
   "metadata": {},
   "source": [
    "##### 리스트 slicing\n",
    "- Slicing 방법 : **변수이름[시작번호:끝번호]**\n",
    "    - **슬라이싱에서는'끝번호' 값은 제외하고 출력**\n",
    "    - 앞자리가 시작번호 뒷자리가 끝번호인데 **끝번호는 포함되지 않음**"
   ]
  },
  {
   "cell_type": "code",
   "execution_count": 101,
   "id": "5241f47e",
   "metadata": {},
   "outputs": [
    {
     "data": {
      "text/plain": [
       "[1, 2, 3, 4]"
      ]
     },
     "execution_count": 101,
     "metadata": {},
     "output_type": "execute_result"
    }
   ],
   "source": [
    "b = [1, 2, 3, 4, 5]\n",
    "b[0:4]"
   ]
  },
  {
   "cell_type": "code",
   "execution_count": 102,
   "id": "477a95f8",
   "metadata": {},
   "outputs": [
    {
     "data": {
      "text/plain": [
       "'1234'"
      ]
     },
     "execution_count": 102,
     "metadata": {},
     "output_type": "execute_result"
    }
   ],
   "source": [
    "c = '12345'\n",
    "c[0:4]"
   ]
  },
  {
   "cell_type": "code",
   "execution_count": 103,
   "id": "a72c1b9b",
   "metadata": {},
   "outputs": [
    {
     "data": {
      "text/plain": [
       "[1, 2, 3]"
      ]
     },
     "execution_count": 103,
     "metadata": {},
     "output_type": "execute_result"
    }
   ],
   "source": [
    "b[:3]"
   ]
  },
  {
   "cell_type": "code",
   "execution_count": 104,
   "id": "aa21dee7",
   "metadata": {},
   "outputs": [
    {
     "data": {
      "text/plain": [
       "[5]"
      ]
     },
     "execution_count": 104,
     "metadata": {},
     "output_type": "execute_result"
    }
   ],
   "source": [
    "b[4:]"
   ]
  },
  {
   "cell_type": "code",
   "execution_count": 105,
   "id": "e6589f2f",
   "metadata": {},
   "outputs": [],
   "source": [
    "a = [1, 2, 3, 4, 5, ['a', 'b', 'c', 'd', 'e'], 7, 8, 9]"
   ]
  },
  {
   "cell_type": "code",
   "execution_count": 106,
   "id": "97dcd953",
   "metadata": {},
   "outputs": [
    {
     "data": {
      "text/plain": [
       "[1, 2, 3, 4, 5, ['a', 'b', 'c', 'd', 'e']]"
      ]
     },
     "execution_count": 106,
     "metadata": {},
     "output_type": "execute_result"
    }
   ],
   "source": [
    "a[0:6]"
   ]
  },
  {
   "cell_type": "code",
   "execution_count": 107,
   "id": "a7fdc2d7",
   "metadata": {},
   "outputs": [
    {
     "data": {
      "text/plain": [
       "[7, 8, 9]"
      ]
     },
     "execution_count": 107,
     "metadata": {},
     "output_type": "execute_result"
    }
   ],
   "source": [
    "a[6:]"
   ]
  },
  {
   "cell_type": "code",
   "execution_count": 108,
   "id": "11ce1d47",
   "metadata": {},
   "outputs": [
    {
     "data": {
      "text/plain": [
       "[1, 2, 3, 4, 5, ['a', 'b', 'c', 'd', 'e']]"
      ]
     },
     "execution_count": 108,
     "metadata": {},
     "output_type": "execute_result"
    }
   ],
   "source": [
    "a[0:6:1] # 0:6의 안에서 한자리 수마다 출력 (a[0:6]과 동일)"
   ]
  },
  {
   "cell_type": "code",
   "execution_count": 109,
   "id": "71a2b42c",
   "metadata": {},
   "outputs": [
    {
     "data": {
      "text/plain": [
       "[1, 3, 5]"
      ]
     },
     "execution_count": 109,
     "metadata": {},
     "output_type": "execute_result"
    }
   ],
   "source": [
    "a[0:6:2] # 0:6의 안에서 두자리 수마다 출력"
   ]
  },
  {
   "cell_type": "code",
   "execution_count": 110,
   "id": "61ba8b6e",
   "metadata": {},
   "outputs": [
    {
     "data": {
      "text/plain": [
       "[1, 4]"
      ]
     },
     "execution_count": 110,
     "metadata": {},
     "output_type": "execute_result"
    }
   ],
   "source": [
    "a[0:6:3] # 0:6의 안에서 세자리 수마다 출력"
   ]
  },
  {
   "cell_type": "markdown",
   "id": "ca815ee3",
   "metadata": {},
   "source": [
    "##### 리스트 연산"
   ]
  },
  {
   "cell_type": "code",
   "execution_count": 125,
   "id": "452effa3",
   "metadata": {},
   "outputs": [],
   "source": [
    "a = [1, 2, 3, 4]\n",
    "b = [5, 6, 7, 8]"
   ]
  },
  {
   "cell_type": "code",
   "execution_count": 126,
   "id": "50ea795c",
   "metadata": {},
   "outputs": [
    {
     "data": {
      "text/plain": [
       "[1, 2, 3, 4, 5, 6, 7, 8]"
      ]
     },
     "execution_count": 126,
     "metadata": {},
     "output_type": "execute_result"
    }
   ],
   "source": [
    "# 리스트는 뒤에 이어짐 (numpy.array와 대비된다)\n",
    "a + b"
   ]
  },
  {
   "cell_type": "code",
   "execution_count": 127,
   "id": "c212b174",
   "metadata": {},
   "outputs": [
    {
     "data": {
      "text/plain": [
       "[1, 2, 3, 4, 1, 2, 3, 4]"
      ]
     },
     "execution_count": 127,
     "metadata": {},
     "output_type": "execute_result"
    }
   ],
   "source": [
    "# 값들이 반복됌\n",
    "a * 2"
   ]
  },
  {
   "cell_type": "code",
   "execution_count": 128,
   "id": "5a226c8e",
   "metadata": {},
   "outputs": [
    {
     "data": {
      "text/plain": [
       "4"
      ]
     },
     "execution_count": 128,
     "metadata": {},
     "output_type": "execute_result"
    }
   ],
   "source": [
    "# 리스트의 길이를 반환\n",
    "len(a)"
   ]
  },
  {
   "cell_type": "code",
   "execution_count": 129,
   "id": "bb8e9c94",
   "metadata": {},
   "outputs": [
    {
     "data": {
      "text/plain": [
       "1"
      ]
     },
     "execution_count": 129,
     "metadata": {},
     "output_type": "execute_result"
    }
   ],
   "source": [
    "k = [12345678]\n",
    "len(k)"
   ]
  },
  {
   "cell_type": "code",
   "execution_count": 130,
   "id": "c12140e9",
   "metadata": {},
   "outputs": [
    {
     "data": {
      "text/plain": [
       "8"
      ]
     },
     "execution_count": 130,
     "metadata": {},
     "output_type": "execute_result"
    }
   ],
   "source": [
    "m = '12345678'\n",
    "len(m)"
   ]
  },
  {
   "cell_type": "code",
   "execution_count": 131,
   "id": "36eb4813",
   "metadata": {},
   "outputs": [],
   "source": [
    "c = 'good' # 문자열"
   ]
  },
  {
   "cell_type": "code",
   "execution_count": 132,
   "id": "687a2992",
   "metadata": {},
   "outputs": [
    {
     "ename": "TypeError",
     "evalue": "can only concatenate list (not \"str\") to list",
     "output_type": "error",
     "traceback": [
      "\u001b[0;31m---------------------------------------------------------------------------\u001b[0m",
      "\u001b[0;31mTypeError\u001b[0m                                 Traceback (most recent call last)",
      "Input \u001b[0;32mIn [132]\u001b[0m, in \u001b[0;36m<cell line: 2>\u001b[0;34m()\u001b[0m\n\u001b[1;32m      1\u001b[0m \u001b[38;5;66;03m# 리스트와 문자열은 더할 수 없음\u001b[39;00m\n\u001b[0;32m----> 2\u001b[0m \u001b[43mb\u001b[49m\u001b[43m \u001b[49m\u001b[38;5;241;43m+\u001b[39;49m\u001b[43m \u001b[49m\u001b[43mc\u001b[49m\n",
      "\u001b[0;31mTypeError\u001b[0m: can only concatenate list (not \"str\") to list"
     ]
    }
   ],
   "source": [
    "# 리스트와 문자열은 더할 수 없음\n",
    "b + c"
   ]
  },
  {
   "cell_type": "code",
   "execution_count": 133,
   "id": "d54f2938",
   "metadata": {},
   "outputs": [
    {
     "data": {
      "text/plain": [
       "[5, 6, 7, 8, 'good']"
      ]
     },
     "execution_count": 133,
     "metadata": {},
     "output_type": "execute_result"
    }
   ],
   "source": [
    "# c를 리스트로 만들어서 더함\n",
    "c = ['good']\n",
    "b + c"
   ]
  },
  {
   "cell_type": "code",
   "execution_count": 134,
   "id": "17c26996",
   "metadata": {},
   "outputs": [
    {
     "name": "stdout",
     "output_type": "stream",
     "text": [
      "[1, 2, 3, 4]\n",
      "[1, 2, 3, 9]\n"
     ]
    }
   ],
   "source": [
    "# 원소를 수정\n",
    "print(a)\n",
    "a[3] = 9\n",
    "print(a)"
   ]
  },
  {
   "cell_type": "code",
   "execution_count": 135,
   "id": "1fd47afc",
   "metadata": {},
   "outputs": [
    {
     "data": {
      "text/plain": [
       "'4'"
      ]
     },
     "execution_count": 135,
     "metadata": {},
     "output_type": "execute_result"
    }
   ],
   "source": [
    "n = '1234'\n",
    "n[3]"
   ]
  },
  {
   "cell_type": "code",
   "execution_count": 137,
   "id": "b88d8455",
   "metadata": {},
   "outputs": [
    {
     "ename": "TypeError",
     "evalue": "'str' object does not support item assignment",
     "output_type": "error",
     "traceback": [
      "\u001b[0;31m---------------------------------------------------------------------------\u001b[0m",
      "\u001b[0;31mTypeError\u001b[0m                                 Traceback (most recent call last)",
      "Input \u001b[0;32mIn [137]\u001b[0m, in \u001b[0;36m<cell line: 1>\u001b[0;34m()\u001b[0m\n\u001b[0;32m----> 1\u001b[0m n[\u001b[38;5;241m3\u001b[39m] \u001b[38;5;241m=\u001b[39m \u001b[38;5;241m9\u001b[39m\n",
      "\u001b[0;31mTypeError\u001b[0m: 'str' object does not support item assignment"
     ]
    }
   ],
   "source": [
    "n[3] = 9 # 문자열에서는 인덱싱을 통한 수정이 불가능"
   ]
  },
  {
   "cell_type": "code",
   "execution_count": 138,
   "id": "207ea8a4",
   "metadata": {},
   "outputs": [
    {
     "data": {
      "text/plain": [
       "'1239'"
      ]
     },
     "execution_count": 138,
     "metadata": {},
     "output_type": "execute_result"
    }
   ],
   "source": [
    "n.replace('4', '9') # 문자열일 경우 replace 매소드를 사용하면 수정한다"
   ]
  },
  {
   "cell_type": "markdown",
   "id": "c73ca96b",
   "metadata": {},
   "source": [
    "##### 리스트 기초 연산 함수\n",
    "- sum: 합\n",
    "- max: 최대값\n",
    "- min: 최소값\n",
    "- del: 삭제\n",
    "- str: 문자형으로 변경"
   ]
  },
  {
   "cell_type": "code",
   "execution_count": 139,
   "id": "1d796360",
   "metadata": {},
   "outputs": [],
   "source": [
    "a = [1, 2, 3, 4, ['a', 'b', 'c']]\n",
    "b = [6, 7, 8, 9]"
   ]
  },
  {
   "cell_type": "code",
   "execution_count": 141,
   "id": "be0ab05d",
   "metadata": {},
   "outputs": [
    {
     "data": {
      "text/plain": [
       "(5, 4)"
      ]
     },
     "execution_count": 141,
     "metadata": {},
     "output_type": "execute_result"
    }
   ],
   "source": [
    "len(a), len(b)"
   ]
  },
  {
   "cell_type": "code",
   "execution_count": 142,
   "id": "38a55b00",
   "metadata": {},
   "outputs": [
    {
     "ename": "TypeError",
     "evalue": "unsupported operand type(s) for +: 'int' and 'list'",
     "output_type": "error",
     "traceback": [
      "\u001b[0;31m---------------------------------------------------------------------------\u001b[0m",
      "\u001b[0;31mTypeError\u001b[0m                                 Traceback (most recent call last)",
      "Input \u001b[0;32mIn [142]\u001b[0m, in \u001b[0;36m<cell line: 2>\u001b[0;34m()\u001b[0m\n\u001b[1;32m      1\u001b[0m \u001b[38;5;66;03m# 합을 구함\u001b[39;00m\n\u001b[0;32m----> 2\u001b[0m \u001b[38;5;28;43msum\u001b[39;49m\u001b[43m(\u001b[49m\u001b[43ma\u001b[49m\u001b[43m)\u001b[49m\n",
      "\u001b[0;31mTypeError\u001b[0m: unsupported operand type(s) for +: 'int' and 'list'"
     ]
    }
   ],
   "source": [
    "# 합을 구함\n",
    "sum(a) # 리스트가 원소로 들어가 있기에 계산이 불가"
   ]
  },
  {
   "cell_type": "code",
   "execution_count": 143,
   "id": "6e8a1472",
   "metadata": {},
   "outputs": [
    {
     "data": {
      "text/plain": [
       "30"
      ]
     },
     "execution_count": 143,
     "metadata": {},
     "output_type": "execute_result"
    }
   ],
   "source": [
    "sum(b)"
   ]
  },
  {
   "cell_type": "code",
   "execution_count": 145,
   "id": "be95aa76",
   "metadata": {},
   "outputs": [
    {
     "data": {
      "text/plain": [
       "9"
      ]
     },
     "execution_count": 145,
     "metadata": {},
     "output_type": "execute_result"
    }
   ],
   "source": [
    "max(b)"
   ]
  },
  {
   "cell_type": "code",
   "execution_count": 146,
   "id": "bf37ca00",
   "metadata": {},
   "outputs": [
    {
     "data": {
      "text/plain": [
       "6"
      ]
     },
     "execution_count": 146,
     "metadata": {},
     "output_type": "execute_result"
    }
   ],
   "source": [
    "min(b)"
   ]
  },
  {
   "cell_type": "code",
   "execution_count": 147,
   "id": "13251f05",
   "metadata": {},
   "outputs": [],
   "source": [
    "del(b[0]) # b[0] 삭제"
   ]
  },
  {
   "cell_type": "code",
   "execution_count": 148,
   "id": "bb7e5fc5",
   "metadata": {},
   "outputs": [
    {
     "name": "stdout",
     "output_type": "stream",
     "text": [
      "[7, 8, 9]\n"
     ]
    }
   ],
   "source": [
    "print(b)"
   ]
  },
  {
   "cell_type": "code",
   "execution_count": 149,
   "id": "0a948cdb",
   "metadata": {},
   "outputs": [],
   "source": [
    "b = [6, 7, 8, 9]\n",
    "del b[:3]"
   ]
  },
  {
   "cell_type": "code",
   "execution_count": 150,
   "id": "0cc37ea2",
   "metadata": {},
   "outputs": [
    {
     "data": {
      "text/plain": [
       "[9]"
      ]
     },
     "execution_count": 150,
     "metadata": {},
     "output_type": "execute_result"
    }
   ],
   "source": [
    "b"
   ]
  },
  {
   "cell_type": "code",
   "execution_count": 151,
   "id": "de34b3c0",
   "metadata": {},
   "outputs": [
    {
     "data": {
      "text/plain": [
       "'9'"
      ]
     },
     "execution_count": 151,
     "metadata": {},
     "output_type": "execute_result"
    }
   ],
   "source": [
    "str(b[0]) # 숫자형을 문자형으로 변경"
   ]
  },
  {
   "cell_type": "code",
   "execution_count": 152,
   "id": "43fdbbe5",
   "metadata": {},
   "outputs": [],
   "source": [
    "b = ['6', '7', '8', '9']"
   ]
  },
  {
   "cell_type": "code",
   "execution_count": 153,
   "id": "eb347656",
   "metadata": {},
   "outputs": [],
   "source": [
    "b.append('10') # 기존의 리스트에 요소 추가"
   ]
  },
  {
   "cell_type": "code",
   "execution_count": 155,
   "id": "daa8af6a",
   "metadata": {},
   "outputs": [
    {
     "data": {
      "text/plain": [
       "['6', '7', '8', '9', '10']"
      ]
     },
     "execution_count": 155,
     "metadata": {},
     "output_type": "execute_result"
    }
   ],
   "source": [
    "b"
   ]
  },
  {
   "cell_type": "code",
   "execution_count": 156,
   "id": "a83ed7bc",
   "metadata": {},
   "outputs": [],
   "source": [
    "b.append(['11', '12']) # 리스트를 하나의 원소로 추가한 것"
   ]
  },
  {
   "cell_type": "code",
   "execution_count": 157,
   "id": "7fd8295b",
   "metadata": {},
   "outputs": [
    {
     "data": {
      "text/plain": [
       "['6', '7', '8', '9', '10', ['11', '12']]"
      ]
     },
     "execution_count": 157,
     "metadata": {},
     "output_type": "execute_result"
    }
   ],
   "source": [
    "b"
   ]
  },
  {
   "cell_type": "code",
   "execution_count": 158,
   "id": "7d6a6a51",
   "metadata": {},
   "outputs": [
    {
     "data": {
      "text/plain": [
       "['6', '9', '8', '7']"
      ]
     },
     "execution_count": 158,
     "metadata": {},
     "output_type": "execute_result"
    }
   ],
   "source": [
    "c = ['6', '9', '8', '7']\n",
    "c"
   ]
  },
  {
   "cell_type": "code",
   "execution_count": 160,
   "id": "206d38cf",
   "metadata": {},
   "outputs": [
    {
     "data": {
      "text/plain": [
       "['6', '7', '8', '9']"
      ]
     },
     "execution_count": 160,
     "metadata": {},
     "output_type": "execute_result"
    }
   ],
   "source": [
    "c.sort() # 오름차순으로 정렬(문자형, 숫자형 모두 가능)\n",
    "c"
   ]
  },
  {
   "cell_type": "code",
   "execution_count": 163,
   "id": "ad1f4f8c",
   "metadata": {},
   "outputs": [],
   "source": [
    "d = ['x', 'z', 'y']\n",
    "d.sort()"
   ]
  },
  {
   "cell_type": "code",
   "execution_count": 164,
   "id": "8ed07000",
   "metadata": {},
   "outputs": [
    {
     "data": {
      "text/plain": [
       "['x', 'y', 'z']"
      ]
     },
     "execution_count": 164,
     "metadata": {},
     "output_type": "execute_result"
    }
   ],
   "source": [
    "d"
   ]
  },
  {
   "cell_type": "code",
   "execution_count": 171,
   "id": "bee69227",
   "metadata": {},
   "outputs": [],
   "source": [
    "c = ['6', '9', '8', '7']\n",
    "c.reverse() # 반대순서로 변환"
   ]
  },
  {
   "cell_type": "code",
   "execution_count": 172,
   "id": "29565799",
   "metadata": {},
   "outputs": [
    {
     "data": {
      "text/plain": [
       "['7', '8', '9', '6']"
      ]
     },
     "execution_count": 172,
     "metadata": {},
     "output_type": "execute_result"
    }
   ],
   "source": [
    "c"
   ]
  },
  {
   "cell_type": "code",
   "execution_count": 173,
   "id": "2df01788",
   "metadata": {},
   "outputs": [
    {
     "data": {
      "text/plain": [
       "['7', '8', '9', '6', '10']"
      ]
     },
     "execution_count": 173,
     "metadata": {},
     "output_type": "execute_result"
    }
   ],
   "source": [
    "c.insert(4, '10') # index 4에 '10'을 추가\n",
    "c"
   ]
  },
  {
   "cell_type": "code",
   "execution_count": 174,
   "id": "24efd746",
   "metadata": {},
   "outputs": [
    {
     "data": {
      "text/plain": [
       "['7', '8', ' 123', '9', '6', '10']"
      ]
     },
     "execution_count": 174,
     "metadata": {},
     "output_type": "execute_result"
    }
   ],
   "source": [
    "c.insert(2,' 123') # index 2에 '123'을 추가\n",
    "c"
   ]
  },
  {
   "cell_type": "code",
   "execution_count": 175,
   "id": "ef7256a2",
   "metadata": {},
   "outputs": [],
   "source": [
    "e = ['3', '4', '4', '3', '5']\n",
    "e.remove('4') # '4'를 제거, 여러개 있을 경우 왼쪽의 것을 제거"
   ]
  },
  {
   "cell_type": "code",
   "execution_count": 177,
   "id": "1a7bf381",
   "metadata": {},
   "outputs": [
    {
     "data": {
      "text/plain": [
       "['3', '4', '3', '5']"
      ]
     },
     "execution_count": 177,
     "metadata": {},
     "output_type": "execute_result"
    }
   ],
   "source": [
    "e"
   ]
  },
  {
   "cell_type": "code",
   "execution_count": 178,
   "id": "95cd1dbb",
   "metadata": {},
   "outputs": [
    {
     "data": {
      "text/plain": [
       "'5'"
      ]
     },
     "execution_count": 178,
     "metadata": {},
     "output_type": "execute_result"
    }
   ],
   "source": [
    "e.pop() # 리스트의 마지막 요소를 보여주고 삭제한다."
   ]
  },
  {
   "cell_type": "code",
   "execution_count": 179,
   "id": "0865dfd3",
   "metadata": {},
   "outputs": [
    {
     "data": {
      "text/plain": [
       "['3', '4', '3']"
      ]
     },
     "execution_count": 179,
     "metadata": {},
     "output_type": "execute_result"
    }
   ],
   "source": [
    "e"
   ]
  },
  {
   "cell_type": "code",
   "execution_count": 180,
   "id": "451f9967",
   "metadata": {},
   "outputs": [
    {
     "data": {
      "text/plain": [
       "5"
      ]
     },
     "execution_count": 180,
     "metadata": {},
     "output_type": "execute_result"
    }
   ],
   "source": [
    "c = [6, 6, 6, 6, 6, 7, 8, 9]\n",
    "c.count(6) # 6의 개수를 count"
   ]
  },
  {
   "cell_type": "code",
   "execution_count": 181,
   "id": "bf739b8f",
   "metadata": {},
   "outputs": [],
   "source": [
    "c.extend([4, 5]) # 리스트만 들어갈 수 있다.\n",
    "# 단 append와는 다르게 리스트의 요소만이 추가된다"
   ]
  },
  {
   "cell_type": "markdown",
   "id": "a6c0123f",
   "metadata": {},
   "source": [
    "##### 튜플(TUPLE) 타입\n",
    "- 튜플 타입은 리스트 타입과 비슷\n",
    "- 차이점은 **리스트는 대괄호 [ ]를 사용하고 튜플은 소괄호( )를 사용**(괄호생략가능)하며, **리스트는 수정이 가능하지만 튜플은 수정이 불가능함**\n",
    "- 튜플에서는 괄호안에 한 개의 요소를 가질 때는 (1,)와 같이 마지막에 콤마 필요\n",
    "- 콤마(,)를 붙이지 않으면 튜플이 아닌 정수 타입이 생성\n",
    "- 프로그램을 실행되는 동안 **그 값이 항상 변화지 않아야 한다**면, 튜플을 사용하고 값이 자주 바뀐다면 리스트를 사용"
   ]
  },
  {
   "cell_type": "code",
   "execution_count": 182,
   "id": "1e557da5",
   "metadata": {},
   "outputs": [],
   "source": [
    "a = tuple()\n",
    "a = ()"
   ]
  },
  {
   "cell_type": "code",
   "execution_count": 183,
   "id": "d37230f4",
   "metadata": {},
   "outputs": [
    {
     "data": {
      "text/plain": [
       "tuple"
      ]
     },
     "execution_count": 183,
     "metadata": {},
     "output_type": "execute_result"
    }
   ],
   "source": [
    "type(a)"
   ]
  },
  {
   "cell_type": "code",
   "execution_count": 184,
   "id": "dc98dfe9",
   "metadata": {},
   "outputs": [],
   "source": [
    "b = (1,) # 원소가 1개일 시에 반드시 ,추가\n",
    "# 안하면 int로 인식"
   ]
  },
  {
   "cell_type": "code",
   "execution_count": 185,
   "id": "62df0f9d",
   "metadata": {},
   "outputs": [
    {
     "data": {
      "text/plain": [
       "tuple"
      ]
     },
     "execution_count": 185,
     "metadata": {},
     "output_type": "execute_result"
    }
   ],
   "source": [
    "type(b)"
   ]
  },
  {
   "cell_type": "code",
   "execution_count": 186,
   "id": "706f7442",
   "metadata": {},
   "outputs": [],
   "source": [
    "c = (1, 2, 3)"
   ]
  },
  {
   "cell_type": "code",
   "execution_count": 187,
   "id": "fa59b804",
   "metadata": {},
   "outputs": [
    {
     "data": {
      "text/plain": [
       "tuple"
      ]
     },
     "execution_count": 187,
     "metadata": {},
     "output_type": "execute_result"
    }
   ],
   "source": [
    "type(c)"
   ]
  },
  {
   "cell_type": "code",
   "execution_count": 188,
   "id": "7a03ed56",
   "metadata": {},
   "outputs": [],
   "source": [
    "d = 1, 2, 3 # 괄호 생략 가능"
   ]
  },
  {
   "cell_type": "code",
   "execution_count": 189,
   "id": "251a509c",
   "metadata": {},
   "outputs": [
    {
     "data": {
      "text/plain": [
       "tuple"
      ]
     },
     "execution_count": 189,
     "metadata": {},
     "output_type": "execute_result"
    }
   ],
   "source": [
    "type(d)"
   ]
  },
  {
   "cell_type": "code",
   "execution_count": 193,
   "id": "639c67ae",
   "metadata": {},
   "outputs": [],
   "source": [
    "# 숫자형과 문자형이 같이 입력될 수 있음\n",
    "# 튜플 안에 퓨틀 가능\n",
    "e = 1, 2, ('ab', 'cd'), 3, 4"
   ]
  },
  {
   "cell_type": "code",
   "execution_count": 194,
   "id": "5a6b566f",
   "metadata": {},
   "outputs": [
    {
     "data": {
      "text/plain": [
       "tuple"
      ]
     },
     "execution_count": 194,
     "metadata": {},
     "output_type": "execute_result"
    }
   ],
   "source": [
    "type(e)"
   ]
  },
  {
   "cell_type": "code",
   "execution_count": 195,
   "id": "0a36cb26",
   "metadata": {},
   "outputs": [
    {
     "data": {
      "text/plain": [
       "1"
      ]
     },
     "execution_count": 195,
     "metadata": {},
     "output_type": "execute_result"
    }
   ],
   "source": [
    "e[0]"
   ]
  },
  {
   "cell_type": "code",
   "execution_count": 197,
   "id": "ce56d297",
   "metadata": {},
   "outputs": [
    {
     "ename": "TypeError",
     "evalue": "'tuple' object doesn't support item deletion",
     "output_type": "error",
     "traceback": [
      "\u001b[0;31m---------------------------------------------------------------------------\u001b[0m",
      "\u001b[0;31mTypeError\u001b[0m                                 Traceback (most recent call last)",
      "Input \u001b[0;32mIn [197]\u001b[0m, in \u001b[0;36m<cell line: 1>\u001b[0;34m()\u001b[0m\n\u001b[0;32m----> 1\u001b[0m \u001b[38;5;28;01mdel\u001b[39;00m e[\u001b[38;5;241m0\u001b[39m]\n",
      "\u001b[0;31mTypeError\u001b[0m: 'tuple' object doesn't support item deletion"
     ]
    }
   ],
   "source": [
    "del e[0] # 튜플은 리스트와는 달리 수정, 삭제, 추가가 불가능"
   ]
  },
  {
   "cell_type": "code",
   "execution_count": 199,
   "id": "2dbf2334",
   "metadata": {},
   "outputs": [
    {
     "ename": "AttributeError",
     "evalue": "'tuple' object has no attribute 'remove'",
     "output_type": "error",
     "traceback": [
      "\u001b[0;31m---------------------------------------------------------------------------\u001b[0m",
      "\u001b[0;31mAttributeError\u001b[0m                            Traceback (most recent call last)",
      "Input \u001b[0;32mIn [199]\u001b[0m, in \u001b[0;36m<cell line: 1>\u001b[0;34m()\u001b[0m\n\u001b[0;32m----> 1\u001b[0m \u001b[43me\u001b[49m\u001b[38;5;241;43m.\u001b[39;49m\u001b[43mremove\u001b[49m[\u001b[38;5;241m1\u001b[39m]\n",
      "\u001b[0;31mAttributeError\u001b[0m: 'tuple' object has no attribute 'remove'"
     ]
    }
   ],
   "source": [
    "e.remove[1]"
   ]
  },
  {
   "cell_type": "code",
   "execution_count": 200,
   "id": "395cb1a9",
   "metadata": {},
   "outputs": [
    {
     "data": {
      "text/plain": [
       "(1, 2, ('ab', 'cd'), 3, 4)"
      ]
     },
     "execution_count": 200,
     "metadata": {},
     "output_type": "execute_result"
    }
   ],
   "source": [
    "e[:]"
   ]
  },
  {
   "cell_type": "code",
   "execution_count": 201,
   "id": "4b485853",
   "metadata": {},
   "outputs": [
    {
     "data": {
      "text/plain": [
       "(1, 2, 3, 1, 2, ('ab', 'cd'), 3, 4)"
      ]
     },
     "execution_count": 201,
     "metadata": {},
     "output_type": "execute_result"
    }
   ],
   "source": [
    "c + e"
   ]
  },
  {
   "cell_type": "code",
   "execution_count": 202,
   "id": "eabc0094",
   "metadata": {},
   "outputs": [
    {
     "data": {
      "text/plain": [
       "(1, 2, 3, 1, 2, 3)"
      ]
     },
     "execution_count": 202,
     "metadata": {},
     "output_type": "execute_result"
    }
   ],
   "source": [
    "c * 2"
   ]
  },
  {
   "cell_type": "code",
   "execution_count": 203,
   "id": "fdf4509f",
   "metadata": {},
   "outputs": [],
   "source": [
    "x, y, z = (1, 2, 3) # 언팩킹"
   ]
  },
  {
   "cell_type": "code",
   "execution_count": 204,
   "id": "074c442e",
   "metadata": {},
   "outputs": [
    {
     "name": "stdout",
     "output_type": "stream",
     "text": [
      "1 2 3\n"
     ]
    }
   ],
   "source": [
    "print(x, y, z)"
   ]
  },
  {
   "cell_type": "code",
   "execution_count": 205,
   "id": "53d4ad08",
   "metadata": {},
   "outputs": [
    {
     "name": "stdout",
     "output_type": "stream",
     "text": [
      "1\n"
     ]
    }
   ],
   "source": [
    "print(x)"
   ]
  },
  {
   "cell_type": "markdown",
   "id": "244390f6",
   "metadata": {},
   "source": [
    "##### 사전(DICT)타입\n",
    "- **key와 value**를 한 쌍으로 가지고 있는 자료형\n",
    "- **{key1:value1,key2:value2,key3:value3...}**\n",
    "- 위치자리에 key값을 입력하면 value 출력"
   ]
  },
  {
   "cell_type": "code",
   "execution_count": 206,
   "id": "5a5b4ed2",
   "metadata": {},
   "outputs": [
    {
     "data": {
      "text/plain": [
       "{'gender': 'Female', 'age': 30, 'name': 'Kristina'}"
      ]
     },
     "execution_count": 206,
     "metadata": {},
     "output_type": "execute_result"
    }
   ],
   "source": [
    "a = {\n",
    "    'gender' : 'Female',\n",
    "    'age' : 30,\n",
    "    'name' : 'Kristina'\n",
    "}\n",
    "a"
   ]
  },
  {
   "cell_type": "code",
   "execution_count": 207,
   "id": "cd2da1c7",
   "metadata": {},
   "outputs": [
    {
     "data": {
      "text/plain": [
       "dict"
      ]
     },
     "execution_count": 207,
     "metadata": {},
     "output_type": "execute_result"
    }
   ],
   "source": [
    "type(a)"
   ]
  },
  {
   "cell_type": "code",
   "execution_count": 209,
   "id": "d81310e1",
   "metadata": {},
   "outputs": [
    {
     "data": {
      "text/plain": [
       "'Female'"
      ]
     },
     "execution_count": 209,
     "metadata": {},
     "output_type": "execute_result"
    }
   ],
   "source": [
    "a['gender'] # 위치자리에 key를 입력하면, key에 해당하는 value가 반환된다."
   ]
  },
  {
   "cell_type": "code",
   "execution_count": 210,
   "id": "dd311378",
   "metadata": {},
   "outputs": [
    {
     "data": {
      "text/plain": [
       "30"
      ]
     },
     "execution_count": 210,
     "metadata": {},
     "output_type": "execute_result"
    }
   ],
   "source": [
    "a['age']"
   ]
  },
  {
   "cell_type": "code",
   "execution_count": 212,
   "id": "25940bda",
   "metadata": {},
   "outputs": [
    {
     "ename": "KeyError",
     "evalue": "0",
     "output_type": "error",
     "traceback": [
      "\u001b[0;31m---------------------------------------------------------------------------\u001b[0m",
      "\u001b[0;31mKeyError\u001b[0m                                  Traceback (most recent call last)",
      "Input \u001b[0;32mIn [212]\u001b[0m, in \u001b[0;36m<cell line: 1>\u001b[0;34m()\u001b[0m\n\u001b[0;32m----> 1\u001b[0m \u001b[43ma\u001b[49m\u001b[43m[\u001b[49m\u001b[38;5;241;43m0\u001b[39;49m\u001b[43m]\u001b[49m\n",
      "\u001b[0;31mKeyError\u001b[0m: 0"
     ]
    }
   ],
   "source": [
    "a[0] # 리스트, 튜플, 문자열 인덱싱과 같이 인덱스 번호로 접근하면 에러 발생"
   ]
  },
  {
   "cell_type": "code",
   "execution_count": 213,
   "id": "2f980fed",
   "metadata": {},
   "outputs": [
    {
     "ename": "KeyError",
     "evalue": "'Kristina'",
     "output_type": "error",
     "traceback": [
      "\u001b[0;31m---------------------------------------------------------------------------\u001b[0m",
      "\u001b[0;31mKeyError\u001b[0m                                  Traceback (most recent call last)",
      "Input \u001b[0;32mIn [213]\u001b[0m, in \u001b[0;36m<cell line: 1>\u001b[0;34m()\u001b[0m\n\u001b[0;32m----> 1\u001b[0m \u001b[43ma\u001b[49m\u001b[43m[\u001b[49m\u001b[38;5;124;43m'\u001b[39;49m\u001b[38;5;124;43mKristina\u001b[39;49m\u001b[38;5;124;43m'\u001b[39;49m\u001b[43m]\u001b[49m\n",
      "\u001b[0;31mKeyError\u001b[0m: 'Kristina'"
     ]
    }
   ],
   "source": [
    "a['Kristina'] # key가 아닌 value로 인덱싱하면 에러 발생"
   ]
  },
  {
   "cell_type": "markdown",
   "id": "0ad5c2a9",
   "metadata": {},
   "source": [
    "##### dictionary에서 추가 및 삭제"
   ]
  },
  {
   "cell_type": "code",
   "execution_count": null,
   "id": "3833698d",
   "metadata": {},
   "outputs": [],
   "source": []
  }
 ],
 "metadata": {
  "kernelspec": {
   "display_name": "Python 3 (ipykernel)",
   "language": "python",
   "name": "python3"
  },
  "language_info": {
   "codemirror_mode": {
    "name": "ipython",
    "version": 3
   },
   "file_extension": ".py",
   "mimetype": "text/x-python",
   "name": "python",
   "nbconvert_exporter": "python",
   "pygments_lexer": "ipython3",
   "version": "3.9.12"
  }
 },
 "nbformat": 4,
 "nbformat_minor": 5
}
